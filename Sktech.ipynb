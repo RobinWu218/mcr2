{
 "cells": [
  {
   "cell_type": "code",
   "execution_count": 1,
   "metadata": {},
   "outputs": [],
   "source": [
    "import os\n",
    "\n",
    "import numpy as np\n",
    "from torch.utils.data import DataLoader\n",
    "from augmentloader import AugmentLoader\n",
    "from torch.optim import SGD\n",
    "\n",
    "import train_func as tf\n",
    "from loss import MaximalCodingRateReduction\n",
    "import utils\n",
    "import matplotlib\n",
    "import matplotlib.pyplot as plt"
   ]
  },
  {
   "cell_type": "code",
   "execution_count": 17,
   "metadata": {},
   "outputs": [],
   "source": [
    "cpb = 10"
   ]
  },
  {
   "cell_type": "code",
   "execution_count": 71,
   "metadata": {},
   "outputs": [],
   "source": [
    "def get_indices_for_label_batch(lb_batch,dt):\n",
    "    res = []\n",
    "    for i in range(len(dt)):\n",
    "        if dt[i][1] in lb_batch:\n",
    "            res.append(i)\n",
    "    return res"
   ]
  },
  {
   "cell_type": "code",
   "execution_count": 2,
   "metadata": {},
   "outputs": [],
   "source": [
    "transforms = tf.load_transforms('default')"
   ]
  },
  {
   "cell_type": "code",
   "execution_count": 4,
   "metadata": {},
   "outputs": [
    {
     "name": "stdout",
     "output_type": "stream",
     "text": [
      "Downloading https://www.cs.toronto.edu/~kriz/cifar-100-python.tar.gz to ./data/cifar100/cifar-100-python.tar.gz\n"
     ]
    },
    {
     "data": {
      "application/vnd.jupyter.widget-view+json": {
       "model_id": "fd958c5126cd405caee0fb1d13fe6eda",
       "version_major": 2,
       "version_minor": 0
      },
      "text/plain": [
       "HBox(children=(FloatProgress(value=1.0, bar_style='info', max=1.0), HTML(value='')))"
      ]
     },
     "metadata": {},
     "output_type": "display_data"
    },
    {
     "name": "stdout",
     "output_type": "stream",
     "text": [
      "Extracting ./data/cifar100/cifar-100-python.tar.gz to ./data/cifar100\n"
     ]
    }
   ],
   "source": [
    "trainset = tf.load_trainset('cifar100', transforms, path='./data/')"
   ]
  },
  {
   "cell_type": "code",
   "execution_count": 32,
   "metadata": {},
   "outputs": [
    {
     "data": {
      "text/plain": [
       "100"
      ]
     },
     "execution_count": 32,
     "metadata": {},
     "output_type": "execute_result"
    }
   ],
   "source": [
    "trainset.num_classes"
   ]
  },
  {
   "cell_type": "code",
   "execution_count": 33,
   "metadata": {},
   "outputs": [],
   "source": [
    "assert trainset.num_classes % cpb == 0"
   ]
  },
  {
   "cell_type": "code",
   "execution_count": 80,
   "metadata": {},
   "outputs": [],
   "source": [
    "classes = np.unique(trainset.targets)"
   ]
  },
  {
   "cell_type": "code",
   "execution_count": 82,
   "metadata": {},
   "outputs": [
    {
     "data": {
      "text/plain": [
       "array([ 0,  1,  2,  3,  4,  5,  6,  7,  8,  9, 10, 11, 12, 13, 14, 15, 16,\n",
       "       17, 18, 19, 20, 21, 22, 23, 24, 25, 26, 27, 28, 29, 30, 31, 32, 33,\n",
       "       34, 35, 36, 37, 38, 39, 40, 41, 42, 43, 44, 45, 46, 47, 48, 49, 50,\n",
       "       51, 52, 53, 54, 55, 56, 57, 58, 59, 60, 61, 62, 63, 64, 65, 66, 67,\n",
       "       68, 69, 70, 71, 72, 73, 74, 75, 76, 77, 78, 79, 80, 81, 82, 83, 84,\n",
       "       85, 86, 87, 88, 89, 90, 91, 92, 93, 94, 95, 96, 97, 98, 99])"
      ]
     },
     "execution_count": 82,
     "metadata": {},
     "output_type": "execute_result"
    }
   ],
   "source": [
    "classes"
   ]
  },
  {
   "cell_type": "code",
   "execution_count": 38,
   "metadata": {},
   "outputs": [],
   "source": [
    "class_batch_list = classes.reshape(trainset.num_classes//cpb,cpb)"
   ]
  },
  {
   "cell_type": "code",
   "execution_count": 86,
   "metadata": {},
   "outputs": [
    {
     "data": {
      "text/plain": [
       "20"
      ]
     },
     "execution_count": 86,
     "metadata": {},
     "output_type": "execute_result"
    }
   ],
   "source": [
    "trainset.num_classes//cpb * 2"
   ]
  },
  {
   "cell_type": "code",
   "execution_count": 90,
   "metadata": {},
   "outputs": [
    {
     "data": {
      "text/plain": [
       "'asdas/2'"
      ]
     },
     "execution_count": 90,
     "metadata": {},
     "output_type": "execute_result"
    }
   ],
   "source": [
    "os.path.join('asdas',str(2))"
   ]
  },
  {
   "cell_type": "code",
   "execution_count": 72,
   "metadata": {},
   "outputs": [],
   "source": [
    "train_ids = get_indices_for_label_batch(class_batch_list[0,:],trainset)"
   ]
  },
  {
   "cell_type": "code",
   "execution_count": 46,
   "metadata": {},
   "outputs": [],
   "source": [
    "import torch"
   ]
  },
  {
   "cell_type": "code",
   "execution_count": 73,
   "metadata": {},
   "outputs": [],
   "source": [
    "sub_trainset = torch.utils.data.Subset(trainset, train_ids)"
   ]
  },
  {
   "cell_type": "code",
   "execution_count": 77,
   "metadata": {},
   "outputs": [],
   "source": [
    "trainloader = torch.utils.data.DataLoader(\n",
    "                trainset,\n",
    "                batch_size=10,\n",
    "                drop_last=True,\n",
    "                num_workers=4,\n",
    "            )"
   ]
  },
  {
   "cell_type": "code",
   "execution_count": 74,
   "metadata": {},
   "outputs": [],
   "source": [
    "sub_trainloader = torch.utils.data.DataLoader(\n",
    "                sub_trainset,\n",
    "                batch_size=100,\n",
    "                drop_last=True,\n",
    "                num_workers=4,\n",
    "            )"
   ]
  },
  {
   "cell_type": "code",
   "execution_count": 75,
   "metadata": {},
   "outputs": [
    {
     "name": "stdout",
     "output_type": "stream",
     "text": [
      "step 0, batch tensor([[[[0.9725, 0.9725, 0.9686,  ..., 0.0000, 0.0000, 0.0000],\n",
      "          [0.9647, 0.9647, 0.9608,  ..., 0.0000, 0.0000, 0.0000],\n",
      "          [0.9608, 0.9608, 0.9608,  ..., 0.0000, 0.0000, 0.0000],\n",
      "          ...,\n",
      "          [0.0000, 0.0000, 0.0000,  ..., 0.0000, 0.0000, 0.0000],\n",
      "          [0.0000, 0.0000, 0.0000,  ..., 0.0000, 0.0000, 0.0000],\n",
      "          [0.0000, 0.0000, 0.0000,  ..., 0.0000, 0.0000, 0.0000]],\n",
      "\n",
      "         [[0.9490, 0.9490, 0.9451,  ..., 0.0000, 0.0000, 0.0000],\n",
      "          [0.9373, 0.9373, 0.9255,  ..., 0.0000, 0.0000, 0.0000],\n",
      "          [0.9333, 0.9176, 0.8941,  ..., 0.0000, 0.0000, 0.0000],\n",
      "          ...,\n",
      "          [0.0000, 0.0000, 0.0000,  ..., 0.0000, 0.0000, 0.0000],\n",
      "          [0.0000, 0.0000, 0.0000,  ..., 0.0000, 0.0000, 0.0000],\n",
      "          [0.0000, 0.0000, 0.0000,  ..., 0.0000, 0.0000, 0.0000]],\n",
      "\n",
      "         [[0.8902, 0.8902, 0.8902,  ..., 0.0000, 0.0000, 0.0000],\n",
      "          [0.8784, 0.8784, 0.8706,  ..., 0.0000, 0.0000, 0.0000],\n",
      "          [0.8627, 0.8549, 0.8196,  ..., 0.0000, 0.0000, 0.0000],\n",
      "          ...,\n",
      "          [0.0000, 0.0000, 0.0000,  ..., 0.0000, 0.0000, 0.0000],\n",
      "          [0.0000, 0.0000, 0.0000,  ..., 0.0000, 0.0000, 0.0000],\n",
      "          [0.0000, 0.0000, 0.0000,  ..., 0.0000, 0.0000, 0.0000]]],\n",
      "\n",
      "\n",
      "        [[[0.0000, 0.0000, 0.0000,  ..., 0.0000, 0.0000, 0.0000],\n",
      "          [0.0000, 0.0000, 0.0000,  ..., 0.4039, 0.2745, 0.2941],\n",
      "          [0.0000, 0.0000, 0.0000,  ..., 0.3686, 0.2353, 0.3098],\n",
      "          ...,\n",
      "          [0.0000, 0.0000, 0.0000,  ..., 0.6118, 0.7529, 0.6980],\n",
      "          [0.0000, 0.0000, 0.0000,  ..., 0.5216, 0.5725, 0.5176],\n",
      "          [0.0000, 0.0000, 0.0000,  ..., 0.6471, 0.4980, 0.5804]],\n",
      "\n",
      "         [[0.0000, 0.0000, 0.0000,  ..., 0.0000, 0.0000, 0.0000],\n",
      "          [0.0000, 0.0000, 0.0000,  ..., 0.4549, 0.3176, 0.3373],\n",
      "          [0.0000, 0.0000, 0.0000,  ..., 0.4118, 0.2745, 0.3529],\n",
      "          ...,\n",
      "          [0.0000, 0.0000, 0.0000,  ..., 0.4706, 0.6118, 0.5961],\n",
      "          [0.0000, 0.0000, 0.0000,  ..., 0.3922, 0.4549, 0.4314],\n",
      "          [0.0000, 0.0000, 0.0000,  ..., 0.5412, 0.4235, 0.5294]],\n",
      "\n",
      "         [[0.0000, 0.0000, 0.0000,  ..., 0.0000, 0.0000, 0.0000],\n",
      "          [0.0000, 0.0000, 0.0000,  ..., 0.3098, 0.1490, 0.1569],\n",
      "          [0.0000, 0.0000, 0.0000,  ..., 0.2627, 0.1255, 0.2039],\n",
      "          ...,\n",
      "          [0.0000, 0.0000, 0.0000,  ..., 0.2353, 0.2902, 0.2902],\n",
      "          [0.0000, 0.0000, 0.0000,  ..., 0.1569, 0.1490, 0.1686],\n",
      "          [0.0000, 0.0000, 0.0000,  ..., 0.2706, 0.1333, 0.2863]]],\n",
      "\n",
      "\n",
      "        [[[0.4157, 0.5647, 0.6078,  ..., 0.0824, 0.0941, 0.0000],\n",
      "          [0.4902, 0.4157, 0.3020,  ..., 0.0745, 0.1020, 0.0000],\n",
      "          [0.5451, 0.3922, 0.4196,  ..., 0.0745, 0.0863, 0.0000],\n",
      "          ...,\n",
      "          [0.0000, 0.0000, 0.0000,  ..., 0.0000, 0.0000, 0.0000],\n",
      "          [0.0000, 0.0000, 0.0000,  ..., 0.0000, 0.0000, 0.0000],\n",
      "          [0.0000, 0.0000, 0.0000,  ..., 0.0000, 0.0000, 0.0000]],\n",
      "\n",
      "         [[0.4353, 0.5725, 0.6314,  ..., 0.0902, 0.1059, 0.0000],\n",
      "          [0.5137, 0.4588, 0.3569,  ..., 0.0824, 0.1137, 0.0000],\n",
      "          [0.5686, 0.4471, 0.4784,  ..., 0.0824, 0.0980, 0.0000],\n",
      "          ...,\n",
      "          [0.0000, 0.0000, 0.0000,  ..., 0.0000, 0.0000, 0.0000],\n",
      "          [0.0000, 0.0000, 0.0000,  ..., 0.0000, 0.0000, 0.0000],\n",
      "          [0.0000, 0.0000, 0.0000,  ..., 0.0000, 0.0000, 0.0000]],\n",
      "\n",
      "         [[0.3216, 0.4627, 0.4706,  ..., 0.0824, 0.0706, 0.0000],\n",
      "          [0.4157, 0.3333, 0.1882,  ..., 0.0784, 0.0824, 0.0000],\n",
      "          [0.4824, 0.2902, 0.3020,  ..., 0.0784, 0.0784, 0.0000],\n",
      "          ...,\n",
      "          [0.0000, 0.0000, 0.0000,  ..., 0.0000, 0.0000, 0.0000],\n",
      "          [0.0000, 0.0000, 0.0000,  ..., 0.0000, 0.0000, 0.0000],\n",
      "          [0.0000, 0.0000, 0.0000,  ..., 0.0000, 0.0000, 0.0000]]],\n",
      "\n",
      "\n",
      "        ...,\n",
      "\n",
      "\n",
      "        [[[0.0000, 0.1765, 0.1961,  ..., 0.2627, 0.6078, 0.3765],\n",
      "          [0.0000, 0.1725, 0.1922,  ..., 0.3765, 0.6039, 0.3176],\n",
      "          [0.0000, 0.1686, 0.1882,  ..., 0.5333, 0.5176, 0.4510],\n",
      "          ...,\n",
      "          [0.0000, 0.0000, 0.0000,  ..., 0.0000, 0.0000, 0.0000],\n",
      "          [0.0000, 0.0000, 0.0000,  ..., 0.0000, 0.0000, 0.0000],\n",
      "          [0.0000, 0.0000, 0.0000,  ..., 0.0000, 0.0000, 0.0000]],\n",
      "\n",
      "         [[0.0000, 0.1765, 0.1804,  ..., 0.2745, 0.6431, 0.4118],\n",
      "          [0.0000, 0.1686, 0.1725,  ..., 0.4000, 0.6392, 0.3490],\n",
      "          [0.0000, 0.1647, 0.1725,  ..., 0.5647, 0.5569, 0.4784],\n",
      "          ...,\n",
      "          [0.0000, 0.0000, 0.0000,  ..., 0.0000, 0.0000, 0.0000],\n",
      "          [0.0000, 0.0000, 0.0000,  ..., 0.0000, 0.0000, 0.0000],\n",
      "          [0.0000, 0.0000, 0.0000,  ..., 0.0000, 0.0000, 0.0000]],\n",
      "\n",
      "         [[0.0000, 0.1294, 0.1490,  ..., 0.3412, 0.7451, 0.4706],\n",
      "          [0.0000, 0.1255, 0.1412,  ..., 0.4627, 0.7451, 0.4353],\n",
      "          [0.0000, 0.1176, 0.1412,  ..., 0.6392, 0.6627, 0.5882],\n",
      "          ...,\n",
      "          [0.0000, 0.0000, 0.0000,  ..., 0.0000, 0.0000, 0.0000],\n",
      "          [0.0000, 0.0000, 0.0000,  ..., 0.0000, 0.0000, 0.0000],\n",
      "          [0.0000, 0.0000, 0.0000,  ..., 0.0000, 0.0000, 0.0000]]],\n",
      "\n",
      "\n",
      "        [[[0.0000, 0.0000, 0.0000,  ..., 0.0000, 0.0000, 0.0000],\n",
      "          [0.0000, 0.0000, 0.0000,  ..., 0.0000, 0.0000, 0.0000],\n",
      "          [0.0000, 0.0000, 0.0000,  ..., 0.0000, 0.0000, 0.0000],\n",
      "          ...,\n",
      "          [0.0000, 0.0000, 0.0000,  ..., 0.2980, 0.2941, 0.2902],\n",
      "          [0.0000, 0.0000, 0.0000,  ..., 0.2980, 0.2941, 0.2902],\n",
      "          [0.0000, 0.0000, 0.0000,  ..., 0.2980, 0.2941, 0.2863]],\n",
      "\n",
      "         [[0.0000, 0.0000, 0.0000,  ..., 0.0000, 0.0000, 0.0000],\n",
      "          [0.0000, 0.0000, 0.0000,  ..., 0.0000, 0.0000, 0.0000],\n",
      "          [0.0000, 0.0000, 0.0000,  ..., 0.0000, 0.0000, 0.0000],\n",
      "          ...,\n",
      "          [0.0000, 0.0000, 0.0000,  ..., 0.4431, 0.4314, 0.4275],\n",
      "          [0.0000, 0.0000, 0.0000,  ..., 0.4431, 0.4314, 0.4275],\n",
      "          [0.0000, 0.0000, 0.0000,  ..., 0.4431, 0.4314, 0.4235]],\n",
      "\n",
      "         [[0.0000, 0.0000, 0.0000,  ..., 0.0000, 0.0000, 0.0000],\n",
      "          [0.0000, 0.0000, 0.0000,  ..., 0.0000, 0.0000, 0.0000],\n",
      "          [0.0000, 0.0000, 0.0000,  ..., 0.0000, 0.0000, 0.0000],\n",
      "          ...,\n",
      "          [0.0000, 0.0000, 0.0000,  ..., 0.2235, 0.2196, 0.2157],\n",
      "          [0.0000, 0.0000, 0.0000,  ..., 0.2235, 0.2196, 0.2157],\n",
      "          [0.0000, 0.0000, 0.0000,  ..., 0.2235, 0.2196, 0.2118]]],\n",
      "\n",
      "\n",
      "        [[[0.0000, 0.0000, 0.0000,  ..., 0.0000, 0.0000, 0.0000],\n",
      "          [0.0000, 0.0000, 0.0000,  ..., 0.0000, 0.0000, 0.0000],\n",
      "          [0.0000, 0.0000, 0.0000,  ..., 0.0000, 0.0000, 0.0000],\n",
      "          ...,\n",
      "          [0.0706, 0.0706, 0.0706,  ..., 0.0000, 0.0000, 0.0000],\n",
      "          [0.0706, 0.0706, 0.0706,  ..., 0.0000, 0.0000, 0.0000],\n",
      "          [0.0745, 0.0745, 0.0706,  ..., 0.0000, 0.0000, 0.0000]],\n",
      "\n",
      "         [[0.0000, 0.0000, 0.0000,  ..., 0.0000, 0.0000, 0.0000],\n",
      "          [0.0000, 0.0000, 0.0000,  ..., 0.0000, 0.0000, 0.0000],\n",
      "          [0.0000, 0.0000, 0.0000,  ..., 0.0000, 0.0000, 0.0000],\n",
      "          ...,\n",
      "          [0.0745, 0.0745, 0.0745,  ..., 0.0000, 0.0000, 0.0000],\n",
      "          [0.0745, 0.0745, 0.0745,  ..., 0.0000, 0.0000, 0.0000],\n",
      "          [0.0784, 0.0784, 0.0745,  ..., 0.0000, 0.0000, 0.0000]],\n",
      "\n",
      "         [[0.0000, 0.0000, 0.0000,  ..., 0.0000, 0.0000, 0.0000],\n",
      "          [0.0000, 0.0000, 0.0000,  ..., 0.0000, 0.0000, 0.0000],\n",
      "          [0.0000, 0.0000, 0.0000,  ..., 0.0000, 0.0000, 0.0000],\n",
      "          ...,\n",
      "          [0.0549, 0.0549, 0.0549,  ..., 0.0000, 0.0000, 0.0000],\n",
      "          [0.0549, 0.0549, 0.0549,  ..., 0.0000, 0.0000, 0.0000],\n",
      "          [0.0588, 0.0588, 0.0549,  ..., 0.0000, 0.0000, 0.0000]]]]), labels tensor([0, 1, 8, 8, 9, 6, 4, 4, 8, 4, 0, 7, 2, 8, 9, 2, 1, 1, 5, 6, 7, 8, 0, 2,\n",
      "        7, 0, 5, 3, 0, 3, 7, 2, 3, 3, 4, 7, 3, 9, 5, 7, 6, 9, 0, 0, 5, 7, 4, 1,\n",
      "        5, 1, 2, 8, 2, 0, 7, 3, 6, 5, 4, 1, 5, 4, 0, 9, 8, 3, 5, 5, 6, 5, 1, 3,\n",
      "        9, 6, 5, 0, 2, 5, 7, 0, 4, 0, 4, 5, 8, 5, 3, 3, 4, 4, 1, 7, 8, 8, 4, 4,\n",
      "        8, 6, 7, 1])\n"
     ]
    }
   ],
   "source": [
    "for step, (batch_imgs, batch_lbls) in enumerate(sub_trainloader):\n",
    "    print('step {}, batch {}, labels {}'.format(step,batch_imgs, batch_lbls))\n",
    "    break"
   ]
  },
  {
   "cell_type": "code",
   "execution_count": 78,
   "metadata": {},
   "outputs": [
    {
     "name": "stdout",
     "output_type": "stream",
     "text": [
      "step 0, batch tensor([[[[0.6157, 0.6902, 0.6157,  ..., 1.0000, 0.0000, 0.0000],\n",
      "          [0.6118, 0.5725, 0.4941,  ..., 1.0000, 0.0000, 0.0000],\n",
      "          [0.6941, 0.5451, 0.5490,  ..., 1.0000, 0.0000, 0.0000],\n",
      "          ...,\n",
      "          [0.0000, 0.0000, 0.0000,  ..., 0.0000, 0.0000, 0.0000],\n",
      "          [0.0000, 0.0000, 0.0000,  ..., 0.0000, 0.0000, 0.0000],\n",
      "          [0.0000, 0.0000, 0.0000,  ..., 0.0000, 0.0000, 0.0000]],\n",
      "\n",
      "         [[0.6431, 0.6510, 0.5294,  ..., 1.0000, 0.0000, 0.0000],\n",
      "          [0.5882, 0.4235, 0.2941,  ..., 1.0000, 0.0000, 0.0000],\n",
      "          [0.6353, 0.3804, 0.3294,  ..., 1.0000, 0.0000, 0.0000],\n",
      "          ...,\n",
      "          [0.0000, 0.0000, 0.0000,  ..., 0.0000, 0.0000, 0.0000],\n",
      "          [0.0000, 0.0000, 0.0000,  ..., 0.0000, 0.0000, 0.0000],\n",
      "          [0.0000, 0.0000, 0.0000,  ..., 0.0000, 0.0000, 0.0000]],\n",
      "\n",
      "         [[0.4627, 0.5059, 0.3882,  ..., 1.0000, 0.0000, 0.0000],\n",
      "          [0.5059, 0.3059, 0.1412,  ..., 1.0000, 0.0000, 0.0000],\n",
      "          [0.5843, 0.2667, 0.1686,  ..., 1.0000, 0.0000, 0.0000],\n",
      "          ...,\n",
      "          [0.0000, 0.0000, 0.0000,  ..., 0.0000, 0.0000, 0.0000],\n",
      "          [0.0000, 0.0000, 0.0000,  ..., 0.0000, 0.0000, 0.0000],\n",
      "          [0.0000, 0.0000, 0.0000,  ..., 0.0000, 0.0000, 0.0000]]],\n",
      "\n",
      "\n",
      "        [[[1.0000, 1.0000, 1.0000,  ..., 1.0000, 0.0000, 0.0000],\n",
      "          [1.0000, 1.0000, 1.0000,  ..., 1.0000, 0.0000, 0.0000],\n",
      "          [1.0000, 1.0000, 1.0000,  ..., 1.0000, 0.0000, 0.0000],\n",
      "          ...,\n",
      "          [0.9922, 0.9922, 0.9922,  ..., 1.0000, 0.0000, 0.0000],\n",
      "          [0.0000, 0.0000, 0.0000,  ..., 0.0000, 0.0000, 0.0000],\n",
      "          [0.0000, 0.0000, 0.0000,  ..., 0.0000, 0.0000, 0.0000]],\n",
      "\n",
      "         [[1.0000, 1.0000, 1.0000,  ..., 1.0000, 0.0000, 0.0000],\n",
      "          [1.0000, 1.0000, 1.0000,  ..., 1.0000, 0.0000, 0.0000],\n",
      "          [1.0000, 1.0000, 1.0000,  ..., 1.0000, 0.0000, 0.0000],\n",
      "          ...,\n",
      "          [0.9922, 0.9922, 0.9922,  ..., 1.0000, 0.0000, 0.0000],\n",
      "          [0.0000, 0.0000, 0.0000,  ..., 0.0000, 0.0000, 0.0000],\n",
      "          [0.0000, 0.0000, 0.0000,  ..., 0.0000, 0.0000, 0.0000]],\n",
      "\n",
      "         [[1.0000, 1.0000, 1.0000,  ..., 1.0000, 0.0000, 0.0000],\n",
      "          [1.0000, 1.0000, 1.0000,  ..., 1.0000, 0.0000, 0.0000],\n",
      "          [1.0000, 1.0000, 1.0000,  ..., 1.0000, 0.0000, 0.0000],\n",
      "          ...,\n",
      "          [0.9922, 0.9922, 0.9922,  ..., 1.0000, 0.0000, 0.0000],\n",
      "          [0.0000, 0.0000, 0.0000,  ..., 0.0000, 0.0000, 0.0000],\n",
      "          [0.0000, 0.0000, 0.0000,  ..., 0.0000, 0.0000, 0.0000]]],\n",
      "\n",
      "\n",
      "        [[[0.9804, 0.9804, 0.9804,  ..., 0.9804, 0.0000, 0.0000],\n",
      "          [0.9843, 0.9843, 0.9804,  ..., 0.9843, 0.0000, 0.0000],\n",
      "          [0.9804, 0.9804, 0.9843,  ..., 0.9765, 0.0000, 0.0000],\n",
      "          ...,\n",
      "          [0.9216, 0.9137, 0.9137,  ..., 0.9098, 0.0000, 0.0000],\n",
      "          [0.0000, 0.0000, 0.0000,  ..., 0.0000, 0.0000, 0.0000],\n",
      "          [0.0000, 0.0000, 0.0000,  ..., 0.0000, 0.0000, 0.0000]],\n",
      "\n",
      "         [[0.9608, 0.9569, 0.9569,  ..., 0.9765, 0.0000, 0.0000],\n",
      "          [0.9569, 0.9569, 0.9569,  ..., 0.9725, 0.0000, 0.0000],\n",
      "          [0.9529, 0.9569, 0.9608,  ..., 0.9647, 0.0000, 0.0000],\n",
      "          ...,\n",
      "          [0.9020, 0.8980, 0.8980,  ..., 0.9020, 0.0000, 0.0000],\n",
      "          [0.0000, 0.0000, 0.0000,  ..., 0.0000, 0.0000, 0.0000],\n",
      "          [0.0000, 0.0000, 0.0000,  ..., 0.0000, 0.0000, 0.0000]],\n",
      "\n",
      "         [[0.9137, 0.9059, 0.9059,  ..., 0.9490, 0.0000, 0.0000],\n",
      "          [0.9137, 0.9059, 0.9020,  ..., 0.9529, 0.0000, 0.0000],\n",
      "          [0.9098, 0.9059, 0.9059,  ..., 0.9451, 0.0000, 0.0000],\n",
      "          ...,\n",
      "          [0.8824, 0.8784, 0.8784,  ..., 0.8941, 0.0000, 0.0000],\n",
      "          [0.0000, 0.0000, 0.0000,  ..., 0.0000, 0.0000, 0.0000],\n",
      "          [0.0000, 0.0000, 0.0000,  ..., 0.0000, 0.0000, 0.0000]]],\n",
      "\n",
      "\n",
      "        ...,\n",
      "\n",
      "\n",
      "        [[[0.0000, 0.0000, 0.0000,  ..., 0.0000, 0.0000, 0.0000],\n",
      "          [0.0000, 0.0000, 0.0000,  ..., 0.0000, 0.0000, 0.0000],\n",
      "          [0.0000, 0.0000, 0.0000,  ..., 0.0000, 0.0000, 0.0000],\n",
      "          ...,\n",
      "          [0.0000, 0.0000, 0.0000,  ..., 0.9373, 0.9412, 0.9412],\n",
      "          [0.0000, 0.0000, 0.0000,  ..., 0.9294, 0.9373, 0.9373],\n",
      "          [0.0000, 0.0000, 0.0000,  ..., 0.9216, 0.9294, 0.9294]],\n",
      "\n",
      "         [[0.0000, 0.0000, 0.0000,  ..., 0.0000, 0.0000, 0.0000],\n",
      "          [0.0000, 0.0000, 0.0000,  ..., 0.0000, 0.0000, 0.0000],\n",
      "          [0.0000, 0.0000, 0.0000,  ..., 0.0000, 0.0000, 0.0000],\n",
      "          ...,\n",
      "          [0.0000, 0.0000, 0.0000,  ..., 0.9216, 0.9255, 0.9255],\n",
      "          [0.0000, 0.0000, 0.0000,  ..., 0.9137, 0.9216, 0.9216],\n",
      "          [0.0000, 0.0000, 0.0000,  ..., 0.9059, 0.9137, 0.9137]],\n",
      "\n",
      "         [[0.0000, 0.0000, 0.0000,  ..., 0.0000, 0.0000, 0.0000],\n",
      "          [0.0000, 0.0000, 0.0000,  ..., 0.0000, 0.0000, 0.0000],\n",
      "          [0.0000, 0.0000, 0.0000,  ..., 0.0000, 0.0000, 0.0000],\n",
      "          ...,\n",
      "          [0.0000, 0.0000, 0.0000,  ..., 0.9098, 0.9137, 0.9137],\n",
      "          [0.0000, 0.0000, 0.0000,  ..., 0.9020, 0.9098, 0.9098],\n",
      "          [0.0000, 0.0000, 0.0000,  ..., 0.8941, 0.9020, 0.9020]]],\n",
      "\n",
      "\n",
      "        [[[0.6667, 0.6980, 0.7373,  ..., 0.5216, 0.5020, 0.0000],\n",
      "          [0.7725, 0.8039, 0.8353,  ..., 0.5569, 0.5373, 0.0000],\n",
      "          [0.7961, 0.8196, 0.8471,  ..., 0.6157, 0.5961, 0.0000],\n",
      "          ...,\n",
      "          [0.0000, 0.0000, 0.0000,  ..., 0.0000, 0.0000, 0.0000],\n",
      "          [0.0000, 0.0000, 0.0000,  ..., 0.0000, 0.0000, 0.0000],\n",
      "          [0.0000, 0.0000, 0.0000,  ..., 0.0000, 0.0000, 0.0000]],\n",
      "\n",
      "         [[0.7412, 0.7647, 0.7882,  ..., 0.6118, 0.5922, 0.0000],\n",
      "          [0.8078, 0.8314, 0.8510,  ..., 0.6353, 0.6157, 0.0000],\n",
      "          [0.7961, 0.8196, 0.8392,  ..., 0.6706, 0.6510, 0.0000],\n",
      "          ...,\n",
      "          [0.0000, 0.0000, 0.0000,  ..., 0.0000, 0.0000, 0.0000],\n",
      "          [0.0000, 0.0000, 0.0000,  ..., 0.0000, 0.0000, 0.0000],\n",
      "          [0.0000, 0.0000, 0.0000,  ..., 0.0000, 0.0000, 0.0000]],\n",
      "\n",
      "         [[0.7882, 0.8118, 0.8314,  ..., 0.6667, 0.6431, 0.0000],\n",
      "          [0.8275, 0.8510, 0.8627,  ..., 0.6706, 0.6510, 0.0000],\n",
      "          [0.7961, 0.8157, 0.8314,  ..., 0.6902, 0.6706, 0.0000],\n",
      "          ...,\n",
      "          [0.0000, 0.0000, 0.0000,  ..., 0.0000, 0.0000, 0.0000],\n",
      "          [0.0000, 0.0000, 0.0000,  ..., 0.0000, 0.0000, 0.0000],\n",
      "          [0.0000, 0.0000, 0.0000,  ..., 0.0000, 0.0000, 0.0000]]],\n",
      "\n",
      "\n",
      "        [[[0.6235, 0.9059, 1.0000,  ..., 0.0000, 0.0000, 0.0000],\n",
      "          [0.5333, 0.6196, 0.9412,  ..., 0.0000, 0.0000, 0.0000],\n",
      "          [0.7961, 0.5451, 0.8431,  ..., 0.0000, 0.0000, 0.0000],\n",
      "          ...,\n",
      "          [1.0000, 1.0000, 0.9961,  ..., 0.0000, 0.0000, 0.0000],\n",
      "          [1.0000, 1.0000, 0.9961,  ..., 0.0000, 0.0000, 0.0000],\n",
      "          [1.0000, 1.0000, 0.9961,  ..., 0.0000, 0.0000, 0.0000]],\n",
      "\n",
      "         [[0.6078, 0.9020, 1.0000,  ..., 0.0000, 0.0000, 0.0000],\n",
      "          [0.5137, 0.6078, 0.9412,  ..., 0.0000, 0.0000, 0.0000],\n",
      "          [0.7765, 0.5216, 0.8392,  ..., 0.0000, 0.0000, 0.0000],\n",
      "          ...,\n",
      "          [1.0000, 1.0000, 0.9961,  ..., 0.0000, 0.0000, 0.0000],\n",
      "          [1.0000, 1.0000, 0.9961,  ..., 0.0000, 0.0000, 0.0000],\n",
      "          [1.0000, 1.0000, 0.9961,  ..., 0.0000, 0.0000, 0.0000]],\n",
      "\n",
      "         [[0.5961, 0.8941, 1.0000,  ..., 0.0000, 0.0000, 0.0000],\n",
      "          [0.5020, 0.5961, 0.9412,  ..., 0.0000, 0.0000, 0.0000],\n",
      "          [0.7647, 0.5020, 0.8353,  ..., 0.0000, 0.0000, 0.0000],\n",
      "          ...,\n",
      "          [1.0000, 1.0000, 0.9961,  ..., 0.0000, 0.0000, 0.0000],\n",
      "          [1.0000, 1.0000, 0.9961,  ..., 0.0000, 0.0000, 0.0000],\n",
      "          [1.0000, 1.0000, 0.9961,  ..., 0.0000, 0.0000, 0.0000]]]]), labels tensor([19, 29,  0, 11,  1, 86, 90, 28, 23, 31])\n"
     ]
    }
   ],
   "source": [
    "for step, (batch_imgs, batch_lbls) in enumerate(trainloader):\n",
    "    print('step {}, batch {}, labels {}'.format(step,batch_imgs, batch_lbls))\n",
    "    break"
   ]
  },
  {
   "cell_type": "code",
   "execution_count": 67,
   "metadata": {},
   "outputs": [
    {
     "data": {
      "text/plain": [
       "torch.Size([10, 3, 32, 32])"
      ]
     },
     "execution_count": 67,
     "metadata": {},
     "output_type": "execute_result"
    }
   ],
   "source": [
    "data[0].shape"
   ]
  },
  {
   "cell_type": "code",
   "execution_count": 2,
   "metadata": {},
   "outputs": [],
   "source": [
    "mcr_acc = [0.648,0.479,0.454,0.387,0.418,0.399,0.379,0.371,0.409,0.407]\n",
    "ce_acc = [0.841,0,0,0,0,0,0,0,0,0]"
   ]
  },
  {
   "cell_type": "code",
   "execution_count": 8,
   "metadata": {},
   "outputs": [
    {
     "data": {
      "text/plain": [
       "<matplotlib.legend.Legend at 0x7f1d48490190>"
      ]
     },
     "execution_count": 8,
     "metadata": {},
     "output_type": "execute_result"
    },
    {
     "data": {
      "image/png": "[encoded data removed]",
      "text/plain": [
       "<Figure size 432x288 with 1 Axes>"
      ]
     },
     "metadata": {
      "needs_background": "light"
     },
     "output_type": "display_data"
    }
   ],
   "source": [
    "plt.plot(np.arange(10)+1,mcr_acc,color='r',label='MCR2')\n",
    "plt.plot(np.arange(10)+1,ce_acc,color='b',label='CE')\n",
    "plt.xlabel('Training Task')\n",
    "plt.ylabel('Accuracy')\n",
    "plt.title('Testing on the 1st partition of CIFAR100')\n",
    "plt.legend()"
   ]
  }
 ],
 "metadata": {
  "kernelspec": {
   "display_name": "Python 3",
   "language": "python",
   "name": "python3"
  },
  "language_info": {
   "codemirror_mode": {
    "name": "ipython",
    "version": 3
   },
   "file_extension": ".py",
   "mimetype": "text/x-python",
   "name": "python",
   "nbconvert_exporter": "python",
   "pygments_lexer": "ipython3",
   "version": "3.8.3"
  }
 },
 "nbformat": 4,
 "nbformat_minor": 4
}
