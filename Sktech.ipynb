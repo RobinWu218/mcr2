{
 "cells": [
  {
   "cell_type": "code",
   "execution_count": 2,
   "metadata": {},
   "outputs": [],
   "source": [
    "import os\n",
    "\n",
    "import numpy as np\n",
    "from torch.utils.data import DataLoader\n",
    "from augmentloader import AugmentLoader\n",
    "from torch.optim import SGD\n",
    "import cluster\n",
    "import train_func as tf\n",
    "from loss import MaximalCodingRateReduction\n",
    "import utils\n",
    "import matplotlib\n",
    "import matplotlib.pyplot as plt\n",
    "import torch.nn as nn\n",
    "import json"
   ]
  },
  {
   "cell_type": "code",
   "execution_count": 2,
   "metadata": {},
   "outputs": [],
   "source": [
    "cpb = 10"
   ]
  },
  {
   "cell_type": "code",
   "execution_count": 71,
   "metadata": {},
   "outputs": [],
   "source": [
    "def get_indices_for_label_batch(lb_batch,dt):\n",
    "    res = []\n",
    "    for i in range(len(dt)):\n",
    "        if dt[i][1] in lb_batch:\n",
    "            res.append(i)\n",
    "    return res"
   ]
  },
  {
   "cell_type": "code",
   "execution_count": 3,
   "metadata": {},
   "outputs": [],
   "source": [
    "transforms = tf.load_transforms('test')"
   ]
  },
  {
   "cell_type": "code",
   "execution_count": 4,
   "metadata": {},
   "outputs": [
    {
     "name": "stdout",
     "output_type": "stream",
     "text": [
      "Files already downloaded and verified\n"
     ]
    }
   ],
   "source": [
    "trainset = tf.load_trainset('cifar100', transforms, path='./data/')"
   ]
  },
  {
   "cell_type": "code",
   "execution_count": 5,
   "metadata": {},
   "outputs": [
    {
     "data": {
      "text/plain": [
       "100"
      ]
     },
     "execution_count": 5,
     "metadata": {},
     "output_type": "execute_result"
    }
   ],
   "source": [
    "trainset.num_classes"
   ]
  },
  {
   "cell_type": "code",
   "execution_count": 6,
   "metadata": {},
   "outputs": [],
   "source": [
    "assert trainset.num_classes % cpb == 0"
   ]
  },
  {
   "cell_type": "code",
   "execution_count": 6,
   "metadata": {},
   "outputs": [],
   "source": [
    "classes = np.unique(trainset.targets)"
   ]
  },
  {
   "cell_type": "code",
   "execution_count": 7,
   "metadata": {},
   "outputs": [
    {
     "data": {
      "text/plain": [
       "array([ 0,  1,  2,  3,  4,  5,  6,  7,  8,  9, 10, 11, 12, 13, 14, 15, 16,\n",
       "       17, 18, 19, 20, 21, 22, 23, 24, 25, 26, 27, 28, 29, 30, 31, 32, 33,\n",
       "       34, 35, 36, 37, 38, 39, 40, 41, 42, 43, 44, 45, 46, 47, 48, 49, 50,\n",
       "       51, 52, 53, 54, 55, 56, 57, 58, 59, 60, 61, 62, 63, 64, 65, 66, 67,\n",
       "       68, 69, 70, 71, 72, 73, 74, 75, 76, 77, 78, 79, 80, 81, 82, 83, 84,\n",
       "       85, 86, 87, 88, 89, 90, 91, 92, 93, 94, 95, 96, 97, 98, 99])"
      ]
     },
     "execution_count": 7,
     "metadata": {},
     "output_type": "execute_result"
    }
   ],
   "source": [
    "classes"
   ]
  },
  {
   "cell_type": "code",
   "execution_count": 8,
   "metadata": {},
   "outputs": [],
   "source": [
    "class_batch_list = classes.reshape(trainset.num_classes//cpb,cpb)"
   ]
  },
  {
   "cell_type": "code",
   "execution_count": 17,
   "metadata": {},
   "outputs": [
    {
     "data": {
      "text/plain": [
       "array([0, 1, 2, 3, 4, 5, 6, 7, 8, 9])"
      ]
     },
     "execution_count": 17,
     "metadata": {},
     "output_type": "execute_result"
    }
   ],
   "source": [
    "class_batch_list[:1,:].flatten()"
   ]
  },
  {
   "cell_type": "code",
   "execution_count": 15,
   "metadata": {},
   "outputs": [
    {
     "data": {
      "text/plain": [
       "0"
      ]
     },
     "execution_count": 15,
     "metadata": {},
     "output_type": "execute_result"
    }
   ],
   "source": [
    "np.min(classes)"
   ]
  },
  {
   "cell_type": "code",
   "execution_count": 9,
   "metadata": {},
   "outputs": [],
   "source": [
    "sub_trainset = tf.get_subset(class_batch_list[1,:].flatten(),trainset)"
   ]
  },
  {
   "cell_type": "code",
   "execution_count": 11,
   "metadata": {},
   "outputs": [],
   "source": [
    "trainloader = DataLoader(sub_trainset, batch_size=200)"
   ]
  },
  {
   "cell_type": "code",
   "execution_count": 13,
   "metadata": {},
   "outputs": [
    {
     "data": {
      "text/plain": [
       "(10, 10)"
      ]
     },
     "execution_count": 13,
     "metadata": {},
     "output_type": "execute_result"
    }
   ],
   "source": [
    "class_batch_list.shape"
   ]
  },
  {
   "cell_type": "code",
   "execution_count": 21,
   "metadata": {},
   "outputs": [
    {
     "data": {
      "text/plain": [
       "3.0"
      ]
     },
     "execution_count": 21,
     "metadata": {},
     "output_type": "execute_result"
    }
   ],
   "source": [
    "a = [1,3,5]\n",
    "np.mean(np.array(a))"
   ]
  },
  {
   "cell_type": "code",
   "execution_count": 72,
   "metadata": {},
   "outputs": [],
   "source": [
    "train_ids = get_indices_for_label_batch(class_batch_list[0,:],trainset)"
   ]
  },
  {
   "cell_type": "code",
   "execution_count": 46,
   "metadata": {},
   "outputs": [],
   "source": [
    "import torch"
   ]
  },
  {
   "cell_type": "code",
   "execution_count": 73,
   "metadata": {},
   "outputs": [],
   "source": [
    "sub_trainset = torch.utils.data.Subset(trainset, train_ids)"
   ]
  },
  {
   "cell_type": "code",
   "execution_count": 77,
   "metadata": {},
   "outputs": [],
   "source": [
    "trainloader = torch.utils.data.DataLoader(\n",
    "                trainset,\n",
    "                batch_size=10,\n",
    "                drop_last=True,\n",
    "                num_workers=4,\n",
    "            )"
   ]
  },
  {
   "cell_type": "code",
   "execution_count": 74,
   "metadata": {},
   "outputs": [],
   "source": [
    "sub_trainloader = torch.utils.data.DataLoader(\n",
    "                sub_trainset,\n",
    "                batch_size=100,\n",
    "                drop_last=True,\n",
    "                num_workers=4,\n",
    "            )"
   ]
  },
  {
   "cell_type": "code",
   "execution_count": 75,
   "metadata": {},
   "outputs": [
    {
     "name": "stdout",
     "output_type": "stream",
     "text": [
      "step 0, batch tensor([[[[0.9725, 0.9725, 0.9686,  ..., 0.0000, 0.0000, 0.0000],\n",
      "          [0.9647, 0.9647, 0.9608,  ..., 0.0000, 0.0000, 0.0000],\n",
      "          [0.9608, 0.9608, 0.9608,  ..., 0.0000, 0.0000, 0.0000],\n",
      "          ...,\n",
      "          [0.0000, 0.0000, 0.0000,  ..., 0.0000, 0.0000, 0.0000],\n",
      "          [0.0000, 0.0000, 0.0000,  ..., 0.0000, 0.0000, 0.0000],\n",
      "          [0.0000, 0.0000, 0.0000,  ..., 0.0000, 0.0000, 0.0000]],\n",
      "\n",
      "         [[0.9490, 0.9490, 0.9451,  ..., 0.0000, 0.0000, 0.0000],\n",
      "          [0.9373, 0.9373, 0.9255,  ..., 0.0000, 0.0000, 0.0000],\n",
      "          [0.9333, 0.9176, 0.8941,  ..., 0.0000, 0.0000, 0.0000],\n",
      "          ...,\n",
      "          [0.0000, 0.0000, 0.0000,  ..., 0.0000, 0.0000, 0.0000],\n",
      "          [0.0000, 0.0000, 0.0000,  ..., 0.0000, 0.0000, 0.0000],\n",
      "          [0.0000, 0.0000, 0.0000,  ..., 0.0000, 0.0000, 0.0000]],\n",
      "\n",
      "         [[0.8902, 0.8902, 0.8902,  ..., 0.0000, 0.0000, 0.0000],\n",
      "          [0.8784, 0.8784, 0.8706,  ..., 0.0000, 0.0000, 0.0000],\n",
      "          [0.8627, 0.8549, 0.8196,  ..., 0.0000, 0.0000, 0.0000],\n",
      "          ...,\n",
      "          [0.0000, 0.0000, 0.0000,  ..., 0.0000, 0.0000, 0.0000],\n",
      "          [0.0000, 0.0000, 0.0000,  ..., 0.0000, 0.0000, 0.0000],\n",
      "          [0.0000, 0.0000, 0.0000,  ..., 0.0000, 0.0000, 0.0000]]],\n",
      "\n",
      "\n",
      "        [[[0.0000, 0.0000, 0.0000,  ..., 0.0000, 0.0000, 0.0000],\n",
      "          [0.0000, 0.0000, 0.0000,  ..., 0.4039, 0.2745, 0.2941],\n",
      "          [0.0000, 0.0000, 0.0000,  ..., 0.3686, 0.2353, 0.3098],\n",
      "          ...,\n",
      "          [0.0000, 0.0000, 0.0000,  ..., 0.6118, 0.7529, 0.6980],\n",
      "          [0.0000, 0.0000, 0.0000,  ..., 0.5216, 0.5725, 0.5176],\n",
      "          [0.0000, 0.0000, 0.0000,  ..., 0.6471, 0.4980, 0.5804]],\n",
      "\n",
      "         [[0.0000, 0.0000, 0.0000,  ..., 0.0000, 0.0000, 0.0000],\n",
      "          [0.0000, 0.0000, 0.0000,  ..., 0.4549, 0.3176, 0.3373],\n",
      "          [0.0000, 0.0000, 0.0000,  ..., 0.4118, 0.2745, 0.3529],\n",
      "          ...,\n",
      "          [0.0000, 0.0000, 0.0000,  ..., 0.4706, 0.6118, 0.5961],\n",
      "          [0.0000, 0.0000, 0.0000,  ..., 0.3922, 0.4549, 0.4314],\n",
      "          [0.0000, 0.0000, 0.0000,  ..., 0.5412, 0.4235, 0.5294]],\n",
      "\n",
      "         [[0.0000, 0.0000, 0.0000,  ..., 0.0000, 0.0000, 0.0000],\n",
      "          [0.0000, 0.0000, 0.0000,  ..., 0.3098, 0.1490, 0.1569],\n",
      "          [0.0000, 0.0000, 0.0000,  ..., 0.2627, 0.1255, 0.2039],\n",
      "          ...,\n",
      "          [0.0000, 0.0000, 0.0000,  ..., 0.2353, 0.2902, 0.2902],\n",
      "          [0.0000, 0.0000, 0.0000,  ..., 0.1569, 0.1490, 0.1686],\n",
      "          [0.0000, 0.0000, 0.0000,  ..., 0.2706, 0.1333, 0.2863]]],\n",
      "\n",
      "\n",
      "        [[[0.4157, 0.5647, 0.6078,  ..., 0.0824, 0.0941, 0.0000],\n",
      "          [0.4902, 0.4157, 0.3020,  ..., 0.0745, 0.1020, 0.0000],\n",
      "          [0.5451, 0.3922, 0.4196,  ..., 0.0745, 0.0863, 0.0000],\n",
      "          ...,\n",
      "          [0.0000, 0.0000, 0.0000,  ..., 0.0000, 0.0000, 0.0000],\n",
      "          [0.0000, 0.0000, 0.0000,  ..., 0.0000, 0.0000, 0.0000],\n",
      "          [0.0000, 0.0000, 0.0000,  ..., 0.0000, 0.0000, 0.0000]],\n",
      "\n",
      "         [[0.4353, 0.5725, 0.6314,  ..., 0.0902, 0.1059, 0.0000],\n",
      "          [0.5137, 0.4588, 0.3569,  ..., 0.0824, 0.1137, 0.0000],\n",
      "          [0.5686, 0.4471, 0.4784,  ..., 0.0824, 0.0980, 0.0000],\n",
      "          ...,\n",
      "          [0.0000, 0.0000, 0.0000,  ..., 0.0000, 0.0000, 0.0000],\n",
      "          [0.0000, 0.0000, 0.0000,  ..., 0.0000, 0.0000, 0.0000],\n",
      "          [0.0000, 0.0000, 0.0000,  ..., 0.0000, 0.0000, 0.0000]],\n",
      "\n",
      "         [[0.3216, 0.4627, 0.4706,  ..., 0.0824, 0.0706, 0.0000],\n",
      "          [0.4157, 0.3333, 0.1882,  ..., 0.0784, 0.0824, 0.0000],\n",
      "          [0.4824, 0.2902, 0.3020,  ..., 0.0784, 0.0784, 0.0000],\n",
      "          ...,\n",
      "          [0.0000, 0.0000, 0.0000,  ..., 0.0000, 0.0000, 0.0000],\n",
      "          [0.0000, 0.0000, 0.0000,  ..., 0.0000, 0.0000, 0.0000],\n",
      "          [0.0000, 0.0000, 0.0000,  ..., 0.0000, 0.0000, 0.0000]]],\n",
      "\n",
      "\n",
      "        ...,\n",
      "\n",
      "\n",
      "        [[[0.0000, 0.1765, 0.1961,  ..., 0.2627, 0.6078, 0.3765],\n",
      "          [0.0000, 0.1725, 0.1922,  ..., 0.3765, 0.6039, 0.3176],\n",
      "          [0.0000, 0.1686, 0.1882,  ..., 0.5333, 0.5176, 0.4510],\n",
      "          ...,\n",
      "          [0.0000, 0.0000, 0.0000,  ..., 0.0000, 0.0000, 0.0000],\n",
      "          [0.0000, 0.0000, 0.0000,  ..., 0.0000, 0.0000, 0.0000],\n",
      "          [0.0000, 0.0000, 0.0000,  ..., 0.0000, 0.0000, 0.0000]],\n",
      "\n",
      "         [[0.0000, 0.1765, 0.1804,  ..., 0.2745, 0.6431, 0.4118],\n",
      "          [0.0000, 0.1686, 0.1725,  ..., 0.4000, 0.6392, 0.3490],\n",
      "          [0.0000, 0.1647, 0.1725,  ..., 0.5647, 0.5569, 0.4784],\n",
      "          ...,\n",
      "          [0.0000, 0.0000, 0.0000,  ..., 0.0000, 0.0000, 0.0000],\n",
      "          [0.0000, 0.0000, 0.0000,  ..., 0.0000, 0.0000, 0.0000],\n",
      "          [0.0000, 0.0000, 0.0000,  ..., 0.0000, 0.0000, 0.0000]],\n",
      "\n",
      "         [[0.0000, 0.1294, 0.1490,  ..., 0.3412, 0.7451, 0.4706],\n",
      "          [0.0000, 0.1255, 0.1412,  ..., 0.4627, 0.7451, 0.4353],\n",
      "          [0.0000, 0.1176, 0.1412,  ..., 0.6392, 0.6627, 0.5882],\n",
      "          ...,\n",
      "          [0.0000, 0.0000, 0.0000,  ..., 0.0000, 0.0000, 0.0000],\n",
      "          [0.0000, 0.0000, 0.0000,  ..., 0.0000, 0.0000, 0.0000],\n",
      "          [0.0000, 0.0000, 0.0000,  ..., 0.0000, 0.0000, 0.0000]]],\n",
      "\n",
      "\n",
      "        [[[0.0000, 0.0000, 0.0000,  ..., 0.0000, 0.0000, 0.0000],\n",
      "          [0.0000, 0.0000, 0.0000,  ..., 0.0000, 0.0000, 0.0000],\n",
      "          [0.0000, 0.0000, 0.0000,  ..., 0.0000, 0.0000, 0.0000],\n",
      "          ...,\n",
      "          [0.0000, 0.0000, 0.0000,  ..., 0.2980, 0.2941, 0.2902],\n",
      "          [0.0000, 0.0000, 0.0000,  ..., 0.2980, 0.2941, 0.2902],\n",
      "          [0.0000, 0.0000, 0.0000,  ..., 0.2980, 0.2941, 0.2863]],\n",
      "\n",
      "         [[0.0000, 0.0000, 0.0000,  ..., 0.0000, 0.0000, 0.0000],\n",
      "          [0.0000, 0.0000, 0.0000,  ..., 0.0000, 0.0000, 0.0000],\n",
      "          [0.0000, 0.0000, 0.0000,  ..., 0.0000, 0.0000, 0.0000],\n",
      "          ...,\n",
      "          [0.0000, 0.0000, 0.0000,  ..., 0.4431, 0.4314, 0.4275],\n",
      "          [0.0000, 0.0000, 0.0000,  ..., 0.4431, 0.4314, 0.4275],\n",
      "          [0.0000, 0.0000, 0.0000,  ..., 0.4431, 0.4314, 0.4235]],\n",
      "\n",
      "         [[0.0000, 0.0000, 0.0000,  ..., 0.0000, 0.0000, 0.0000],\n",
      "          [0.0000, 0.0000, 0.0000,  ..., 0.0000, 0.0000, 0.0000],\n",
      "          [0.0000, 0.0000, 0.0000,  ..., 0.0000, 0.0000, 0.0000],\n",
      "          ...,\n",
      "          [0.0000, 0.0000, 0.0000,  ..., 0.2235, 0.2196, 0.2157],\n",
      "          [0.0000, 0.0000, 0.0000,  ..., 0.2235, 0.2196, 0.2157],\n",
      "          [0.0000, 0.0000, 0.0000,  ..., 0.2235, 0.2196, 0.2118]]],\n",
      "\n",
      "\n",
      "        [[[0.0000, 0.0000, 0.0000,  ..., 0.0000, 0.0000, 0.0000],\n",
      "          [0.0000, 0.0000, 0.0000,  ..., 0.0000, 0.0000, 0.0000],\n",
      "          [0.0000, 0.0000, 0.0000,  ..., 0.0000, 0.0000, 0.0000],\n",
      "          ...,\n",
      "          [0.0706, 0.0706, 0.0706,  ..., 0.0000, 0.0000, 0.0000],\n",
      "          [0.0706, 0.0706, 0.0706,  ..., 0.0000, 0.0000, 0.0000],\n",
      "          [0.0745, 0.0745, 0.0706,  ..., 0.0000, 0.0000, 0.0000]],\n",
      "\n",
      "         [[0.0000, 0.0000, 0.0000,  ..., 0.0000, 0.0000, 0.0000],\n",
      "          [0.0000, 0.0000, 0.0000,  ..., 0.0000, 0.0000, 0.0000],\n",
      "          [0.0000, 0.0000, 0.0000,  ..., 0.0000, 0.0000, 0.0000],\n",
      "          ...,\n",
      "          [0.0745, 0.0745, 0.0745,  ..., 0.0000, 0.0000, 0.0000],\n",
      "          [0.0745, 0.0745, 0.0745,  ..., 0.0000, 0.0000, 0.0000],\n",
      "          [0.0784, 0.0784, 0.0745,  ..., 0.0000, 0.0000, 0.0000]],\n",
      "\n",
      "         [[0.0000, 0.0000, 0.0000,  ..., 0.0000, 0.0000, 0.0000],\n",
      "          [0.0000, 0.0000, 0.0000,  ..., 0.0000, 0.0000, 0.0000],\n",
      "          [0.0000, 0.0000, 0.0000,  ..., 0.0000, 0.0000, 0.0000],\n",
      "          ...,\n",
      "          [0.0549, 0.0549, 0.0549,  ..., 0.0000, 0.0000, 0.0000],\n",
      "          [0.0549, 0.0549, 0.0549,  ..., 0.0000, 0.0000, 0.0000],\n",
      "          [0.0588, 0.0588, 0.0549,  ..., 0.0000, 0.0000, 0.0000]]]]), labels tensor([0, 1, 8, 8, 9, 6, 4, 4, 8, 4, 0, 7, 2, 8, 9, 2, 1, 1, 5, 6, 7, 8, 0, 2,\n",
      "        7, 0, 5, 3, 0, 3, 7, 2, 3, 3, 4, 7, 3, 9, 5, 7, 6, 9, 0, 0, 5, 7, 4, 1,\n",
      "        5, 1, 2, 8, 2, 0, 7, 3, 6, 5, 4, 1, 5, 4, 0, 9, 8, 3, 5, 5, 6, 5, 1, 3,\n",
      "        9, 6, 5, 0, 2, 5, 7, 0, 4, 0, 4, 5, 8, 5, 3, 3, 4, 4, 1, 7, 8, 8, 4, 4,\n",
      "        8, 6, 7, 1])\n"
     ]
    }
   ],
   "source": [
    "for step, (batch_imgs, batch_lbls) in enumerate(sub_trainloader):\n",
    "    print('step {}, batch {}, labels {}'.format(step,batch_imgs, batch_lbls))\n",
    "    break"
   ]
  },
  {
   "cell_type": "code",
   "execution_count": 78,
   "metadata": {},
   "outputs": [
    {
     "name": "stdout",
     "output_type": "stream",
     "text": [
      "step 0, batch tensor([[[[0.6157, 0.6902, 0.6157,  ..., 1.0000, 0.0000, 0.0000],\n",
      "          [0.6118, 0.5725, 0.4941,  ..., 1.0000, 0.0000, 0.0000],\n",
      "          [0.6941, 0.5451, 0.5490,  ..., 1.0000, 0.0000, 0.0000],\n",
      "          ...,\n",
      "          [0.0000, 0.0000, 0.0000,  ..., 0.0000, 0.0000, 0.0000],\n",
      "          [0.0000, 0.0000, 0.0000,  ..., 0.0000, 0.0000, 0.0000],\n",
      "          [0.0000, 0.0000, 0.0000,  ..., 0.0000, 0.0000, 0.0000]],\n",
      "\n",
      "         [[0.6431, 0.6510, 0.5294,  ..., 1.0000, 0.0000, 0.0000],\n",
      "          [0.5882, 0.4235, 0.2941,  ..., 1.0000, 0.0000, 0.0000],\n",
      "          [0.6353, 0.3804, 0.3294,  ..., 1.0000, 0.0000, 0.0000],\n",
      "          ...,\n",
      "          [0.0000, 0.0000, 0.0000,  ..., 0.0000, 0.0000, 0.0000],\n",
      "          [0.0000, 0.0000, 0.0000,  ..., 0.0000, 0.0000, 0.0000],\n",
      "          [0.0000, 0.0000, 0.0000,  ..., 0.0000, 0.0000, 0.0000]],\n",
      "\n",
      "         [[0.4627, 0.5059, 0.3882,  ..., 1.0000, 0.0000, 0.0000],\n",
      "          [0.5059, 0.3059, 0.1412,  ..., 1.0000, 0.0000, 0.0000],\n",
      "          [0.5843, 0.2667, 0.1686,  ..., 1.0000, 0.0000, 0.0000],\n",
      "          ...,\n",
      "          [0.0000, 0.0000, 0.0000,  ..., 0.0000, 0.0000, 0.0000],\n",
      "          [0.0000, 0.0000, 0.0000,  ..., 0.0000, 0.0000, 0.0000],\n",
      "          [0.0000, 0.0000, 0.0000,  ..., 0.0000, 0.0000, 0.0000]]],\n",
      "\n",
      "\n",
      "        [[[1.0000, 1.0000, 1.0000,  ..., 1.0000, 0.0000, 0.0000],\n",
      "          [1.0000, 1.0000, 1.0000,  ..., 1.0000, 0.0000, 0.0000],\n",
      "          [1.0000, 1.0000, 1.0000,  ..., 1.0000, 0.0000, 0.0000],\n",
      "          ...,\n",
      "          [0.9922, 0.9922, 0.9922,  ..., 1.0000, 0.0000, 0.0000],\n",
      "          [0.0000, 0.0000, 0.0000,  ..., 0.0000, 0.0000, 0.0000],\n",
      "          [0.0000, 0.0000, 0.0000,  ..., 0.0000, 0.0000, 0.0000]],\n",
      "\n",
      "         [[1.0000, 1.0000, 1.0000,  ..., 1.0000, 0.0000, 0.0000],\n",
      "          [1.0000, 1.0000, 1.0000,  ..., 1.0000, 0.0000, 0.0000],\n",
      "          [1.0000, 1.0000, 1.0000,  ..., 1.0000, 0.0000, 0.0000],\n",
      "          ...,\n",
      "          [0.9922, 0.9922, 0.9922,  ..., 1.0000, 0.0000, 0.0000],\n",
      "          [0.0000, 0.0000, 0.0000,  ..., 0.0000, 0.0000, 0.0000],\n",
      "          [0.0000, 0.0000, 0.0000,  ..., 0.0000, 0.0000, 0.0000]],\n",
      "\n",
      "         [[1.0000, 1.0000, 1.0000,  ..., 1.0000, 0.0000, 0.0000],\n",
      "          [1.0000, 1.0000, 1.0000,  ..., 1.0000, 0.0000, 0.0000],\n",
      "          [1.0000, 1.0000, 1.0000,  ..., 1.0000, 0.0000, 0.0000],\n",
      "          ...,\n",
      "          [0.9922, 0.9922, 0.9922,  ..., 1.0000, 0.0000, 0.0000],\n",
      "          [0.0000, 0.0000, 0.0000,  ..., 0.0000, 0.0000, 0.0000],\n",
      "          [0.0000, 0.0000, 0.0000,  ..., 0.0000, 0.0000, 0.0000]]],\n",
      "\n",
      "\n",
      "        [[[0.9804, 0.9804, 0.9804,  ..., 0.9804, 0.0000, 0.0000],\n",
      "          [0.9843, 0.9843, 0.9804,  ..., 0.9843, 0.0000, 0.0000],\n",
      "          [0.9804, 0.9804, 0.9843,  ..., 0.9765, 0.0000, 0.0000],\n",
      "          ...,\n",
      "          [0.9216, 0.9137, 0.9137,  ..., 0.9098, 0.0000, 0.0000],\n",
      "          [0.0000, 0.0000, 0.0000,  ..., 0.0000, 0.0000, 0.0000],\n",
      "          [0.0000, 0.0000, 0.0000,  ..., 0.0000, 0.0000, 0.0000]],\n",
      "\n",
      "         [[0.9608, 0.9569, 0.9569,  ..., 0.9765, 0.0000, 0.0000],\n",
      "          [0.9569, 0.9569, 0.9569,  ..., 0.9725, 0.0000, 0.0000],\n",
      "          [0.9529, 0.9569, 0.9608,  ..., 0.9647, 0.0000, 0.0000],\n",
      "          ...,\n",
      "          [0.9020, 0.8980, 0.8980,  ..., 0.9020, 0.0000, 0.0000],\n",
      "          [0.0000, 0.0000, 0.0000,  ..., 0.0000, 0.0000, 0.0000],\n",
      "          [0.0000, 0.0000, 0.0000,  ..., 0.0000, 0.0000, 0.0000]],\n",
      "\n",
      "         [[0.9137, 0.9059, 0.9059,  ..., 0.9490, 0.0000, 0.0000],\n",
      "          [0.9137, 0.9059, 0.9020,  ..., 0.9529, 0.0000, 0.0000],\n",
      "          [0.9098, 0.9059, 0.9059,  ..., 0.9451, 0.0000, 0.0000],\n",
      "          ...,\n",
      "          [0.8824, 0.8784, 0.8784,  ..., 0.8941, 0.0000, 0.0000],\n",
      "          [0.0000, 0.0000, 0.0000,  ..., 0.0000, 0.0000, 0.0000],\n",
      "          [0.0000, 0.0000, 0.0000,  ..., 0.0000, 0.0000, 0.0000]]],\n",
      "\n",
      "\n",
      "        ...,\n",
      "\n",
      "\n",
      "        [[[0.0000, 0.0000, 0.0000,  ..., 0.0000, 0.0000, 0.0000],\n",
      "          [0.0000, 0.0000, 0.0000,  ..., 0.0000, 0.0000, 0.0000],\n",
      "          [0.0000, 0.0000, 0.0000,  ..., 0.0000, 0.0000, 0.0000],\n",
      "          ...,\n",
      "          [0.0000, 0.0000, 0.0000,  ..., 0.9373, 0.9412, 0.9412],\n",
      "          [0.0000, 0.0000, 0.0000,  ..., 0.9294, 0.9373, 0.9373],\n",
      "          [0.0000, 0.0000, 0.0000,  ..., 0.9216, 0.9294, 0.9294]],\n",
      "\n",
      "         [[0.0000, 0.0000, 0.0000,  ..., 0.0000, 0.0000, 0.0000],\n",
      "          [0.0000, 0.0000, 0.0000,  ..., 0.0000, 0.0000, 0.0000],\n",
      "          [0.0000, 0.0000, 0.0000,  ..., 0.0000, 0.0000, 0.0000],\n",
      "          ...,\n",
      "          [0.0000, 0.0000, 0.0000,  ..., 0.9216, 0.9255, 0.9255],\n",
      "          [0.0000, 0.0000, 0.0000,  ..., 0.9137, 0.9216, 0.9216],\n",
      "          [0.0000, 0.0000, 0.0000,  ..., 0.9059, 0.9137, 0.9137]],\n",
      "\n",
      "         [[0.0000, 0.0000, 0.0000,  ..., 0.0000, 0.0000, 0.0000],\n",
      "          [0.0000, 0.0000, 0.0000,  ..., 0.0000, 0.0000, 0.0000],\n",
      "          [0.0000, 0.0000, 0.0000,  ..., 0.0000, 0.0000, 0.0000],\n",
      "          ...,\n",
      "          [0.0000, 0.0000, 0.0000,  ..., 0.9098, 0.9137, 0.9137],\n",
      "          [0.0000, 0.0000, 0.0000,  ..., 0.9020, 0.9098, 0.9098],\n",
      "          [0.0000, 0.0000, 0.0000,  ..., 0.8941, 0.9020, 0.9020]]],\n",
      "\n",
      "\n",
      "        [[[0.6667, 0.6980, 0.7373,  ..., 0.5216, 0.5020, 0.0000],\n",
      "          [0.7725, 0.8039, 0.8353,  ..., 0.5569, 0.5373, 0.0000],\n",
      "          [0.7961, 0.8196, 0.8471,  ..., 0.6157, 0.5961, 0.0000],\n",
      "          ...,\n",
      "          [0.0000, 0.0000, 0.0000,  ..., 0.0000, 0.0000, 0.0000],\n",
      "          [0.0000, 0.0000, 0.0000,  ..., 0.0000, 0.0000, 0.0000],\n",
      "          [0.0000, 0.0000, 0.0000,  ..., 0.0000, 0.0000, 0.0000]],\n",
      "\n",
      "         [[0.7412, 0.7647, 0.7882,  ..., 0.6118, 0.5922, 0.0000],\n",
      "          [0.8078, 0.8314, 0.8510,  ..., 0.6353, 0.6157, 0.0000],\n",
      "          [0.7961, 0.8196, 0.8392,  ..., 0.6706, 0.6510, 0.0000],\n",
      "          ...,\n",
      "          [0.0000, 0.0000, 0.0000,  ..., 0.0000, 0.0000, 0.0000],\n",
      "          [0.0000, 0.0000, 0.0000,  ..., 0.0000, 0.0000, 0.0000],\n",
      "          [0.0000, 0.0000, 0.0000,  ..., 0.0000, 0.0000, 0.0000]],\n",
      "\n",
      "         [[0.7882, 0.8118, 0.8314,  ..., 0.6667, 0.6431, 0.0000],\n",
      "          [0.8275, 0.8510, 0.8627,  ..., 0.6706, 0.6510, 0.0000],\n",
      "          [0.7961, 0.8157, 0.8314,  ..., 0.6902, 0.6706, 0.0000],\n",
      "          ...,\n",
      "          [0.0000, 0.0000, 0.0000,  ..., 0.0000, 0.0000, 0.0000],\n",
      "          [0.0000, 0.0000, 0.0000,  ..., 0.0000, 0.0000, 0.0000],\n",
      "          [0.0000, 0.0000, 0.0000,  ..., 0.0000, 0.0000, 0.0000]]],\n",
      "\n",
      "\n",
      "        [[[0.6235, 0.9059, 1.0000,  ..., 0.0000, 0.0000, 0.0000],\n",
      "          [0.5333, 0.6196, 0.9412,  ..., 0.0000, 0.0000, 0.0000],\n",
      "          [0.7961, 0.5451, 0.8431,  ..., 0.0000, 0.0000, 0.0000],\n",
      "          ...,\n",
      "          [1.0000, 1.0000, 0.9961,  ..., 0.0000, 0.0000, 0.0000],\n",
      "          [1.0000, 1.0000, 0.9961,  ..., 0.0000, 0.0000, 0.0000],\n",
      "          [1.0000, 1.0000, 0.9961,  ..., 0.0000, 0.0000, 0.0000]],\n",
      "\n",
      "         [[0.6078, 0.9020, 1.0000,  ..., 0.0000, 0.0000, 0.0000],\n",
      "          [0.5137, 0.6078, 0.9412,  ..., 0.0000, 0.0000, 0.0000],\n",
      "          [0.7765, 0.5216, 0.8392,  ..., 0.0000, 0.0000, 0.0000],\n",
      "          ...,\n",
      "          [1.0000, 1.0000, 0.9961,  ..., 0.0000, 0.0000, 0.0000],\n",
      "          [1.0000, 1.0000, 0.9961,  ..., 0.0000, 0.0000, 0.0000],\n",
      "          [1.0000, 1.0000, 0.9961,  ..., 0.0000, 0.0000, 0.0000]],\n",
      "\n",
      "         [[0.5961, 0.8941, 1.0000,  ..., 0.0000, 0.0000, 0.0000],\n",
      "          [0.5020, 0.5961, 0.9412,  ..., 0.0000, 0.0000, 0.0000],\n",
      "          [0.7647, 0.5020, 0.8353,  ..., 0.0000, 0.0000, 0.0000],\n",
      "          ...,\n",
      "          [1.0000, 1.0000, 0.9961,  ..., 0.0000, 0.0000, 0.0000],\n",
      "          [1.0000, 1.0000, 0.9961,  ..., 0.0000, 0.0000, 0.0000],\n",
      "          [1.0000, 1.0000, 0.9961,  ..., 0.0000, 0.0000, 0.0000]]]]), labels tensor([19, 29,  0, 11,  1, 86, 90, 28, 23, 31])\n"
     ]
    }
   ],
   "source": [
    "for step, (batch_imgs, batch_lbls) in enumerate(trainloader):\n",
    "    print('step {}, batch {}, labels {}'.format(step,batch_imgs, batch_lbls))\n",
    "    break"
   ]
  },
  {
   "cell_type": "code",
   "execution_count": 67,
   "metadata": {},
   "outputs": [
    {
     "data": {
      "text/plain": [
       "torch.Size([10, 3, 32, 32])"
      ]
     },
     "execution_count": 67,
     "metadata": {},
     "output_type": "execute_result"
    }
   ],
   "source": [
    "data[0].shape"
   ]
  },
  {
   "cell_type": "code",
   "execution_count": 2,
   "metadata": {},
   "outputs": [],
   "source": [
    "mcr_acc = [0.648,0.479,0.454,0.387,0.418,0.399,0.379,0.371,0.409,0.407]\n",
    "ce_acc = [0.841,0,0,0,0,0,0,0,0,0]"
   ]
  },
  {
   "cell_type": "code",
   "execution_count": 8,
   "metadata": {},
   "outputs": [
    {
     "data": {
      "text/plain": [
       "<matplotlib.legend.Legend at 0x7f1d48490190>"
      ]
     },
     "execution_count": 8,
     "metadata": {},
     "output_type": "execute_result"
    },
    {
     "data": {
      "image/png": "[encoded data removed]",
      "text/plain": [
       "<Figure size 432x288 with 1 Axes>"
      ]
     },
     "metadata": {
      "needs_background": "light"
     },
     "output_type": "display_data"
    }
   ],
   "source": [
    "plt.plot(np.arange(10)+1,mcr_acc,color='r',label='MCR2')\n",
    "plt.plot(np.arange(10)+1,ce_acc,color='b',label='CE')\n",
    "plt.xlabel('Training Task')\n",
    "plt.ylabel('Accuracy')\n",
    "plt.title('Testing on the 1st partition of CIFAR100')\n",
    "plt.legend()"
   ]
  },
  {
   "cell_type": "code",
   "execution_count": 6,
   "metadata": {},
   "outputs": [
    {
     "data": {
      "text/plain": [
       "<matplotlib.legend.Legend at 0x7f5a40f903d0>"
      ]
     },
     "execution_count": 6,
     "metadata": {},
     "output_type": "execute_result"
    },
    {
     "data": {
      "image/png": "[encoded data removed]",
      "text/plain": [
       "<Figure size 432x288 with 1 Axes>"
      ]
     },
     "metadata": {
      "needs_background": "light"
     },
     "output_type": "display_data"
    }
   ],
   "source": [
    "mcr_aia = [0.648,0.631,0.512,0.421,0.395,0.339,0.303,0.279,0.259,0.256]\n",
    "plt.scatter(np.arange(10)+1,mcr_aia,color='r',label='MCR2')\n",
    "plt.xlabel('Learning Session')\n",
    "plt.ylabel('Average Incremental Accuracy')\n",
    "plt.title('MCR on CIFAR100')\n",
    "plt.legend()"
   ]
  },
  {
   "cell_type": "code",
   "execution_count": 10,
   "metadata": {},
   "outputs": [
    {
     "data": {
      "text/plain": [
       "<matplotlib.legend.Legend at 0x7f5a40d11700>"
      ]
     },
     "execution_count": 10,
     "metadata": {},
     "output_type": "execute_result"
    },
    {
     "data": {
      "image/png": "[encoded data removed]",
      "text/plain": [
       "<Figure size 432x288 with 1 Axes>"
      ]
     },
     "metadata": {
      "needs_background": "light"
     },
     "output_type": "display_data"
    }
   ],
   "source": [
    "mcr_acc_task_9 = [0.409,0.176,0.195,0.110,0.196,0.196,0.132,0.097,0.812]\n",
    "plt.scatter(np.arange(9)+1,mcr_acc_task_9,color='r',label='MCR2')\n",
    "plt.xlabel('Task ID')\n",
    "plt.ylabel('Test Accuracy')\n",
    "plt.title('Test Accuracy on each task after training 9 tasks on CIFAR100')\n",
    "plt.legend()"
   ]
  },
  {
   "cell_type": "markdown",
   "metadata": {},
   "source": [
    "# Transfer Experiment"
   ]
  },
  {
   "cell_type": "code",
   "execution_count": 3,
   "metadata": {},
   "outputs": [],
   "source": [
    "transfer_res = np.load(\"transfer_results_1.npy\",allow_pickle=True)"
   ]
  },
  {
   "cell_type": "code",
   "execution_count": 7,
   "metadata": {},
   "outputs": [],
   "source": [
    "dataset_list = os.listdir('/share/bharath/zw287/datasets/my_deca')\n",
    "\n",
    "dataset_list.remove('omniglot')\n",
    "dataset_list.remove('vgg-flowers')\n",
    "dataset_list.remove('protein_atlas')"
   ]
  },
  {
   "cell_type": "code",
   "execution_count": 30,
   "metadata": {},
   "outputs": [
    {
     "data": {
      "text/plain": [
       "array([{'mcr_loss': -0.004144191741943359, 'nearsub_test_acc_pca': 0.0738073807380738, 'nearsub_test_acc_svd': 0.0726072607260726},\n",
       "       {'mcr_loss': -0.021654844284057617, 'nearsub_test_acc_pca': 0.03382663847780132, 'nearsub_test_acc_svd': 0.03382663847780132},\n",
       "       {'mcr_loss': -0.031043052673339844, 'nearsub_test_acc_pca': 0.10425531914893615, 'nearsub_test_acc_svd': 0.09680851063829787},\n",
       "       {'mcr_loss': -0.0008788108825683594, 'nearsub_test_acc_pca': 0.40446111330438217, 'nearsub_test_acc_svd': 0.398736675878405},\n",
       "       {'mcr_loss': -0.05695605278015137, 'nearsub_test_acc_pca': 0.40476190476190477, 'nearsub_test_acc_svd': 0.36904761904761907},\n",
       "       {'mcr_loss': -0.009530305862426758, 'nearsub_test_acc_pca': 0.08071748878923768, 'nearsub_test_acc_svd': 0.07527226137091603},\n",
       "       {'mcr_loss': -0.0014476776123046875, 'nearsub_test_acc_pca': 0.06120916259857301, 'nearsub_test_acc_svd': 0.0597070972587308},\n",
       "       {'mcr_loss': -0.04780125617980957, 'nearsub_test_acc_pca': 0.1472, 'nearsub_test_acc_svd': 0.14300000000000002},\n",
       "       {'mcr_loss': 0.0, 'nearsub_test_acc_pca': 0.5771428571428572, 'nearsub_test_acc_svd': 0.5852040816326531},\n",
       "       {'mcr_loss': -0.0034542083740234375, 'nearsub_test_acc_pca': 0.90503003003003, 'nearsub_test_acc_svd': 0.9029654654654655},\n",
       "       {'mcr_loss': -0.051460981369018555, 'nearsub_test_acc_pca': 0.589, 'nearsub_test_acc_svd': 0.5589999999999999},\n",
       "       {'mcr_loss': 0.0, 'nearsub_test_acc_pca': 0.5300382304751502, 'nearsub_test_acc_svd': 0.531198798470781},\n",
       "       {'nearsub_test_acc_pca': 0.30000000000000004, 'nearsub_test_acc_svd': 0.25},\n",
       "       {'mcr_loss': 0.0, 'nearsub_test_acc_pca': 0.2045217391304348, 'nearsub_test_acc_svd': 0.20173913043478264}],\n",
       "      dtype=object)"
      ]
     },
     "execution_count": 30,
     "metadata": {},
     "output_type": "execute_result"
    }
   ],
   "source": [
    "transfer_res[-2,:]"
   ]
  },
  {
   "cell_type": "code",
   "execution_count": 32,
   "metadata": {},
   "outputs": [
    {
     "name": "stdout",
     "output_type": "stream",
     "text": [
      "Target dataset: aircraft\n",
      "0.0738073807380738\n",
      "0.0651065106510651\n",
      "The best predicted accuracy is: 0.0651065106510651\n",
      "The best actual accuracy is: 0.0738073807380738\n",
      "Target dataset: cub\n",
      "0.059196617336152224\n",
      "0.05877378435517966\n",
      "The best predicted accuracy is: 0.05877378435517966\n",
      "The best actual accuracy is: 0.059196617336152224\n",
      "Target dataset: dtd\n",
      "0.13191489361702124\n",
      "0.10319148936170208\n",
      "The best predicted accuracy is: 0.10319148936170208\n",
      "The best actual accuracy is: 0.13191489361702124\n",
      "Target dataset: isic\n",
      "0.41255428345834977\n",
      "0.3578760363205685\n",
      "The best predicted accuracy is: 0.3578760363205685\n",
      "The best actual accuracy is: 0.41255428345834977\n",
      "Target dataset: merced\n",
      "0.5047619047619047\n",
      "0.40476190476190477\n",
      "The best predicted accuracy is: 0.40476190476190477\n",
      "The best actual accuracy is: 0.5047619047619047\n",
      "Target dataset: scenes\n",
      "0.09256886611146697\n",
      "0.07847533632286996\n",
      "The best predicted accuracy is: 0.07847533632286996\n",
      "The best actual accuracy is: 0.09256886611146697\n",
      "Target dataset: ucf101\n",
      "0.07660533233195643\n",
      "0.05219677055951932\n",
      "The best predicted accuracy is: 0.05219677055951932\n",
      "The best actual accuracy is: 0.07660533233195643\n",
      "Target dataset: cifar100\n",
      "0.16379999999999995\n",
      "0.14490000000000003\n",
      "The best predicted accuracy is: 0.14490000000000003\n",
      "The best actual accuracy is: 0.16379999999999995\n",
      "Target dataset: daimlerpedcls\n",
      "0.8323469387755102\n",
      "0.7670408163265307\n",
      "The best predicted accuracy is: 0.7670408163265307\n",
      "The best actual accuracy is: 0.8323469387755102\n",
      "Target dataset: gtsrb\n",
      "0.9065315315315315\n",
      "0.7708333333333334\n",
      "The best predicted accuracy is: 0.7708333333333334\n",
      "The best actual accuracy is: 0.9065315315315315\n",
      "Target dataset: kather\n",
      "0.7090000000000001\n",
      "0.7090000000000001\n",
      "The best predicted accuracy is: 0.7090000000000001\n",
      "The best actual accuracy is: 0.7090000000000001\n",
      "Target dataset: svhn\n",
      "0.5300382304751502\n",
      "0.320794647733479\n",
      "The best predicted accuracy is: 0.320794647733479\n",
      "The best actual accuracy is: 0.5300382304751502\n",
      "Target dataset: minc\n",
      "0.25182608695652176\n",
      "0.25182608695652176\n",
      "The best predicted accuracy is: 0.25182608695652176\n",
      "The best actual accuracy is: 0.25182608695652176\n"
     ]
    }
   ],
   "source": [
    "increase_in_error_by_mcr = []\n",
    "best_expert_accs = []\n",
    "for target_ds_id in range(len(dataset_list)):\n",
    "    if target_ds_id==12:\n",
    "        continue\n",
    "    target_ds = dataset_list[target_ds_id]\n",
    "    expert_accs = [] \n",
    "    mcr_losses = []\n",
    "    print(\"Target dataset: {}\".format(target_ds))\n",
    "    for source_ds_id in range(len(dataset_list)):\n",
    "        if source_ds_id == target_ds_id:\n",
    "            continue\n",
    "        if target_ds_id==12:\n",
    "            continue\n",
    "        source_ds = dataset_list[source_ds_id]\n",
    "        res = transfer_res[source_ds_id,target_ds_id]\n",
    "        mcr_loss,acc_pca,acc_svd = res['mcr_loss'],res['nearsub_test_acc_pca'],res['nearsub_test_acc_svd']\n",
    "        mcr_losses.append(mcr_loss)\n",
    "        expert_accs.append(acc_pca)\n",
    "        \n",
    "    smallest_mcr_loss_id = np.argmin(np.array(mcr_losses))\n",
    "    predicted_best_acc = expert_accs[smallest_mcr_loss_id]\n",
    "    actual_best_acc = max(np.array(expert_accs))\n",
    "    print(actual_best_acc)\n",
    "    print(predicted_best_acc)\n",
    "    increase_in_error = actual_best_acc-predicted_best_acc\n",
    "    \n",
    "    print(\"The best predicted accuracy is: {}\".format(predicted_best_acc))\n",
    "    print(\"The best actual accuracy is: {}\".format(actual_best_acc))\n",
    "    increase_in_error_by_mcr.append(increase_in_error)\n",
    "    best_expert_accs.append(actual_best_acc)"
   ]
  },
  {
   "cell_type": "code",
   "execution_count": 41,
   "metadata": {},
   "outputs": [
    {
     "name": "stdout",
     "output_type": "stream",
     "text": [
      "Target dataset: aircraft\n",
      "Target dataset: cub\n",
      "Target dataset: dtd\n",
      "Target dataset: isic\n",
      "Target dataset: merced\n",
      "Target dataset: scenes\n",
      "Target dataset: ucf101\n",
      "Target dataset: cifar100\n",
      "Target dataset: daimlerpedcls\n",
      "Target dataset: gtsrb\n",
      "Target dataset: kather\n",
      "Target dataset: svhn\n",
      "Target dataset: minc\n"
     ]
    }
   ],
   "source": [
    "random_select_accs = []\n",
    "for target_ds_id in range(len(dataset_list)):\n",
    "    if target_ds_id==12:\n",
    "        continue\n",
    "    target_ds = dataset_list[target_ds_id]\n",
    "    expert_accs = [] \n",
    "    \n",
    "    print(\"Target dataset: {}\".format(target_ds))\n",
    "    for source_ds_id in range(len(dataset_list)):\n",
    "        if source_ds_id == target_ds_id:\n",
    "            continue\n",
    "        if target_ds_id==12:\n",
    "            continue\n",
    "        source_ds = dataset_list[source_ds_id]\n",
    "        res = transfer_res[source_ds_id,target_ds_id]\n",
    "        mcr_loss,acc_pca,acc_svd = res['mcr_loss'],res['nearsub_test_acc_pca'],res['nearsub_test_acc_svd']\n",
    "        expert_accs.append(acc_pca)\n",
    "\n",
    "    selected_expert_id = np.random.randint(0,len(dataset_list)-2)\n",
    "    random_select_accs.append(expert_accs[selected_expert_id])"
   ]
  },
  {
   "cell_type": "code",
   "execution_count": 34,
   "metadata": {},
   "outputs": [
    {
     "data": {
      "text/plain": [
       "0.05078271918545882"
      ]
     },
     "execution_count": 34,
     "metadata": {},
     "output_type": "execute_result"
    }
   ],
   "source": [
    "np.mean(np.array(increase_in_error_by_mcr))"
   ]
  },
  {
   "cell_type": "code",
   "execution_count": 35,
   "metadata": {},
   "outputs": [
    {
     "data": {
      "text/plain": [
       "0.6350036872235661"
      ]
     },
     "execution_count": 35,
     "metadata": {},
     "output_type": "execute_result"
    }
   ],
   "source": [
    "np.mean(1-np.array(best_expert_accs))"
   ]
  },
  {
   "cell_type": "code",
   "execution_count": 42,
   "metadata": {},
   "outputs": [
    {
     "data": {
      "text/plain": [
       "0.09330198510949354"
      ]
     },
     "execution_count": 42,
     "metadata": {},
     "output_type": "execute_result"
    }
   ],
   "source": [
    "np.mean(np.array(best_expert_accs)-np.array(random_select_accs))"
   ]
  },
  {
   "cell_type": "markdown",
   "metadata": {},
   "source": [
    "# T-SNE Plot"
   ]
  },
  {
   "cell_type": "code",
   "execution_count": 2,
   "metadata": {},
   "outputs": [],
   "source": [
    "from sklearn.manifold import TSNE\n",
    "import seaborn as sns"
   ]
  },
  {
   "cell_type": "code",
   "execution_count": 3,
   "metadata": {},
   "outputs": [
    {
     "name": "stdout",
     "output_type": "stream",
     "text": [
      "Files already downloaded and verified\n",
      "Files already downloaded and verified\n"
     ]
    }
   ],
   "source": [
    "cpb = 10\n",
    "model_dir = \"saved_models/seqsup_resnet18+128_cifar100_cpb10_epo200_bs1000_lr0.001_mom0.9_wd0.0005_gam11.0_gam21.0_eps0.5_lcr0.0\"\n",
    "params = utils.load_params(model_dir)\n",
    "train_transforms = tf.load_transforms('test')\n",
    "trainset = tf.load_trainset(params['data'], train_transforms, train=True)\n",
    "test_transforms = tf.load_transforms('test')\n",
    "testset = tf.load_trainset(params['data'], test_transforms, train=False)\n",
    "assert (trainset.num_classes % cpb == 0),\"Number of classes not divisible by cpb\"\n",
    "classes = np.unique(trainset.targets)\n",
    "class_batch_num = trainset.num_classes//cpb"
   ]
  },
  {
   "cell_type": "code",
   "execution_count": 4,
   "metadata": {},
   "outputs": [],
   "source": [
    "class_batch_list = classes.reshape(class_batch_num,cpb)"
   ]
  },
  {
   "cell_type": "code",
   "execution_count": 17,
   "metadata": {},
   "outputs": [
    {
     "name": "stdout",
     "output_type": "stream",
     "text": [
      "Loading checkpoint: saved_models/seqsup_resnet18+128_cifar100_cpb10_epo200_bs1000_lr0.001_mom0.9_wd0.0005_gam11.0_gam21.0_eps0.5_lcr0.0/checkpoints/labelbatch0/model-epoch199.pt\n",
      "Loading checkpoint: saved_models/seqsup_resnet18+128_cifar100_cpb10_epo200_bs1000_lr0.001_mom0.9_wd0.0005_gam11.0_gam21.0_eps0.5_lcr0.0/checkpoints/labelbatch1/model-epoch199.pt\n",
      "Loading checkpoint: saved_models/seqsup_resnet18+128_cifar100_cpb10_epo200_bs1000_lr0.001_mom0.9_wd0.0005_gam11.0_gam21.0_eps0.5_lcr0.0/checkpoints/labelbatch2/model-epoch199.pt\n",
      "Loading checkpoint: saved_models/seqsup_resnet18+128_cifar100_cpb10_epo200_bs1000_lr0.001_mom0.9_wd0.0005_gam11.0_gam21.0_eps0.5_lcr0.0/checkpoints/labelbatch3/model-epoch199.pt\n",
      "Loading checkpoint: saved_models/seqsup_resnet18+128_cifar100_cpb10_epo200_bs1000_lr0.001_mom0.9_wd0.0005_gam11.0_gam21.0_eps0.5_lcr0.0/checkpoints/labelbatch4/model-epoch199.pt\n",
      "Loading checkpoint: saved_models/seqsup_resnet18+128_cifar100_cpb10_epo200_bs1000_lr0.001_mom0.9_wd0.0005_gam11.0_gam21.0_eps0.5_lcr0.0/checkpoints/labelbatch5/model-epoch199.pt\n"
     ]
    }
   ],
   "source": [
    "net_0, epoch = tf.load_checkpoint(model_dir, None, eval_=True, label_batch_id=0)\n",
    "net_1, epoch = tf.load_checkpoint(model_dir, None, eval_=True, label_batch_id=1)\n",
    "net_2, epoch = tf.load_checkpoint(model_dir, None, eval_=True, label_batch_id=2)\n",
    "net_3, epoch = tf.load_checkpoint(model_dir, None, eval_=True, label_batch_id=3)\n",
    "net_4, epoch = tf.load_checkpoint(model_dir, None, eval_=True, label_batch_id=4)\n",
    "net_5, epoch = tf.load_checkpoint(model_dir, None, eval_=True, label_batch_id=5)"
   ]
  },
  {
   "cell_type": "code",
   "execution_count": 6,
   "metadata": {},
   "outputs": [
    {
     "data": {
      "text/plain": [
       "array([0, 1, 2, 3, 4, 5, 6, 7, 8, 9])"
      ]
     },
     "execution_count": 6,
     "metadata": {},
     "output_type": "execute_result"
    }
   ],
   "source": [
    "class_batch_list[0,:]"
   ]
  },
  {
   "cell_type": "code",
   "execution_count": 22,
   "metadata": {},
   "outputs": [
    {
     "name": "stderr",
     "output_type": "stream",
     "text": [
      "extracting all features from dataset: 100%|██████████| 8/8 [00:00<00:00, 24.03it/s]\n"
     ]
    }
   ],
   "source": [
    "subtrainset = tf.get_subset([0,1,2],trainset)\n",
    "# subtrainset = tf.get_subset(class_batch_list[task_id,:],trainset)\n",
    "# print(\"subset train size: {}\".format(len(subtrainset)))\n",
    "trainloader = DataLoader(subtrainset, batch_size=200)\n",
    "train_features, train_labels = tf.get_features(net_4, trainloader)\n",
    "\n",
    "features_embedded = TSNE(n_components=2).fit_transform(train_features.numpy())"
   ]
  },
  {
   "cell_type": "code",
   "execution_count": 12,
   "metadata": {},
   "outputs": [
    {
     "data": {
      "image/png": "[encoded data removed]",
      "text/plain": [
       "<Figure size 432x288 with 1 Axes>"
      ]
     },
     "metadata": {
      "needs_background": "light"
     },
     "output_type": "display_data"
    }
   ],
   "source": [
    "myCmap = np.array(['r', 'g', 'b'])\n",
    "for j in range(features_embedded.shape[0]):\n",
    "    label=train_labels[j]\n",
    "    plt.scatter(features_embedded[j, 0], features_embedded[j, 1],color=myCmap[label],label=label)"
   ]
  },
  {
   "cell_type": "code",
   "execution_count": 14,
   "metadata": {},
   "outputs": [
    {
     "data": {
      "image/png": "[encoded data removed]",
      "text/plain": [
       "<Figure size 432x288 with 1 Axes>"
      ]
     },
     "metadata": {
      "needs_background": "light"
     },
     "output_type": "display_data"
    }
   ],
   "source": [
    "myCmap = np.array(['r', 'g', 'b'])\n",
    "for j in range(features_embedded.shape[0]):\n",
    "    label=train_labels[j]\n",
    "    plt.scatter(features_embedded[j, 0], features_embedded[j, 1],color=myCmap[label],label=label)"
   ]
  },
  {
   "cell_type": "code",
   "execution_count": 19,
   "metadata": {},
   "outputs": [
    {
     "data": {
      "image/png": "[encoded data removed]",
      "text/plain": [
       "<Figure size 432x288 with 1 Axes>"
      ]
     },
     "metadata": {
      "needs_background": "light"
     },
     "output_type": "display_data"
    }
   ],
   "source": [
    "myCmap = np.array(['r', 'g', 'b'])\n",
    "for j in range(features_embedded.shape[0]):\n",
    "    label=train_labels[j]\n",
    "    plt.scatter(features_embedded[j, 0], features_embedded[j, 1],color=myCmap[label],label=label)"
   ]
  },
  {
   "cell_type": "code",
   "execution_count": 21,
   "metadata": {},
   "outputs": [
    {
     "data": {
      "image/png": "[encoded data removed]",
      "text/plain": [
       "<Figure size 432x288 with 1 Axes>"
      ]
     },
     "metadata": {
      "needs_background": "light"
     },
     "output_type": "display_data"
    }
   ],
   "source": [
    "myCmap = np.array(['r', 'g', 'b'])\n",
    "for j in range(features_embedded.shape[0]):\n",
    "    label=train_labels[j]\n",
    "    plt.scatter(features_embedded[j, 0], features_embedded[j, 1],color=myCmap[label],label=label)"
   ]
  },
  {
   "cell_type": "code",
   "execution_count": 23,
   "metadata": {},
   "outputs": [
    {
     "data": {
      "image/png": "[encoded data removed]",
      "text/plain": [
       "<Figure size 432x288 with 1 Axes>"
      ]
     },
     "metadata": {
      "needs_background": "light"
     },
     "output_type": "display_data"
    }
   ],
   "source": [
    "myCmap = np.array(['r', 'g', 'b'])\n",
    "for j in range(features_embedded.shape[0]):\n",
    "    label=train_labels[j]\n",
    "    plt.scatter(features_embedded[j, 0], features_embedded[j, 1],color=myCmap[label],label=label)"
   ]
  },
  {
   "cell_type": "code",
   "execution_count": 16,
   "metadata": {},
   "outputs": [
    {
     "data": {
      "image/png": "[encoded data removed]",
      "text/plain": [
       "<Figure size 432x288 with 1 Axes>"
      ]
     },
     "metadata": {
      "needs_background": "light"
     },
     "output_type": "display_data"
    }
   ],
   "source": [
    "myCmap = np.array(['r', 'g', 'b'])\n",
    "for j in range(features_embedded.shape[0]):\n",
    "    label=train_labels[j]\n",
    "    plt.scatter(features_embedded[j, 0], features_embedded[j, 1],color=myCmap[label],label=label)"
   ]
  },
  {
   "cell_type": "markdown",
   "metadata": {},
   "source": [
    "# Finetuneing Experiments"
   ]
  },
  {
   "cell_type": "code",
   "execution_count": null,
   "metadata": {},
   "outputs": [],
   "source": [
    "res_exp_only = np.load(\"fintune_result_aircraft_expandonly.npy\")\n",
    "res_full_term = np.load(\"fintune_result_aircraft_fullterm.npy\")"
   ]
  },
  {
   "cell_type": "code",
   "execution_count": null,
   "metadata": {},
   "outputs": [],
   "source": [
    "res_exp_only.item()"
   ]
  },
  {
   "cell_type": "code",
   "execution_count": null,
   "metadata": {},
   "outputs": [],
   "source": [
    "res_full_term.item()"
   ]
  },
  {
   "cell_type": "code",
   "execution_count": 2,
   "metadata": {},
   "outputs": [
    {
     "name": "stdout",
     "output_type": "stream",
     "text": [
      "Loading checkpoint: saved_models/experts/mcr2/sup_expert_resnet18+128_aircraft_epo200_bs1000_lr0.001_mom0.9_wd0.0005_gam11.0_gam21.0_eps0.5_lcr0.0/checkpoints/model-epoch199.pt\n"
     ]
    }
   ],
   "source": [
    "#sketch\n",
    "model_dir = 'saved_models/experts/mcr2/sup_expert_resnet18+128_aircraft_epo200_bs1000_lr0.001_mom0.9_wd0.0005_gam11.0_gam21.0_eps0.5_lcr0.0'\n",
    "net, _ = tf.load_checkpoint(model_dir, None)"
   ]
  },
  {
   "cell_type": "code",
   "execution_count": 14,
   "metadata": {},
   "outputs": [],
   "source": [
    "# for name, m in net.named_modules():\n",
    "#     print(name)\n",
    "#     if isinstance(m, nn.Conv2d):\n",
    "#         print(name)\n",
    "#         print(m.weight.data)\n",
    "#         break"
   ]
  },
  {
   "cell_type": "code",
   "execution_count": 16,
   "metadata": {},
   "outputs": [
    {
     "data": {
      "text/plain": [
       "65"
      ]
     },
     "execution_count": 16,
     "metadata": {},
     "output_type": "execute_result"
    }
   ],
   "source": [
    "len(list(net.parameters()))"
   ]
  },
  {
   "cell_type": "markdown",
   "metadata": {},
   "source": [
    "# Residual Adapter"
   ]
  },
  {
   "cell_type": "code",
   "execution_count": 4,
   "metadata": {},
   "outputs": [],
   "source": [
    "import architectures.resnet_resadpt as resadpt\n",
    "from architectures.resnet_cifar import ResNet18"
   ]
  },
  {
   "cell_type": "code",
   "execution_count": 6,
   "metadata": {},
   "outputs": [],
   "source": [
    "n1 = resadpt.resnet18(10)\n",
    "n2 = ResNet18()"
   ]
  },
  {
   "cell_type": "code",
   "execution_count": 9,
   "metadata": {},
   "outputs": [
    {
     "name": "stdout",
     "output_type": "stream",
     "text": [
      "conv1.conv\n",
      "layer1.0.conv1.conv\n",
      "layer1.0.conv2.1.conv\n",
      "layer1.1.conv1.conv\n",
      "layer1.1.conv2.1.conv\n",
      "layer2.0.conv1.conv\n",
      "layer2.0.conv2.1.conv\n",
      "layer2.1.conv1.conv\n",
      "layer2.1.conv2.1.conv\n",
      "layer3.0.conv1.conv\n",
      "layer3.0.conv2.1.conv\n",
      "layer3.1.conv1.conv\n",
      "layer3.1.conv2.1.conv\n",
      "layer4.0.conv1.conv\n",
      "layer4.0.conv2.1.conv\n",
      "layer4.1.conv1.conv\n",
      "layer4.1.conv2.1.conv\n"
     ]
    }
   ],
   "source": [
    "for name, m in n1.named_modules():\n",
    "    if isinstance(m, nn.Conv2d) and (m.kernel_size[0]==3):\n",
    "        print(name)"
   ]
  },
  {
   "cell_type": "code",
   "execution_count": 10,
   "metadata": {},
   "outputs": [
    {
     "name": "stdout",
     "output_type": "stream",
     "text": [
      "conv1\n",
      "layer1.0.conv1\n",
      "layer1.0.conv2\n",
      "layer1.1.conv1\n",
      "layer1.1.conv2\n",
      "layer2.0.conv1\n",
      "layer2.0.conv2\n",
      "layer2.1.conv1\n",
      "layer2.1.conv2\n",
      "layer3.0.conv1\n",
      "layer3.0.conv2\n",
      "layer3.1.conv1\n",
      "layer3.1.conv2\n",
      "layer4.0.conv1\n",
      "layer4.0.conv2\n",
      "layer4.1.conv1\n",
      "layer4.1.conv2\n"
     ]
    }
   ],
   "source": [
    "for name, m in n2.named_modules():\n",
    "    if isinstance(m, nn.Conv2d) and (m.kernel_size[0]==3):\n",
    "        print(name)"
   ]
  },
  {
   "cell_type": "code",
   "execution_count": 11,
   "metadata": {},
   "outputs": [
    {
     "name": "stdout",
     "output_type": "stream",
     "text": [
      "conv1.bns.0\n",
      "layer1.0.conv1.bns.0\n",
      "layer1.0.conv2.1.bns.0\n",
      "layer1.1.conv1.bns.0\n",
      "layer1.1.conv2.1.bns.0\n",
      "layer2.0.conv1.bns.0\n",
      "layer2.0.conv2.1.bns.0\n",
      "layer2.1.conv1.bns.0\n",
      "layer2.1.conv2.1.bns.0\n",
      "layer3.0.conv1.bns.0\n",
      "layer3.0.conv2.1.bns.0\n",
      "layer3.1.conv1.bns.0\n",
      "layer3.1.conv2.1.bns.0\n",
      "layer4.0.conv1.bns.0\n",
      "layer4.0.conv2.1.bns.0\n",
      "layer4.1.conv1.bns.0\n",
      "layer4.1.conv2.1.bns.0\n",
      "end_bns.0.0\n"
     ]
    }
   ],
   "source": [
    "for name, m in n1.named_modules():\n",
    "    if isinstance(m, nn.BatchNorm2d) and 'bns.' in name:\n",
    "        print(name)"
   ]
  },
  {
   "cell_type": "code",
   "execution_count": 14,
   "metadata": {},
   "outputs": [
    {
     "name": "stdout",
     "output_type": "stream",
     "text": [
      "bn1\n",
      "layer1.0.bn1\n",
      "layer1.0.bn2\n",
      "layer1.1.bn1\n",
      "layer1.1.bn2\n",
      "layer2.0.bn1\n",
      "layer2.0.bn2\n",
      "layer2.1.bn1\n",
      "layer2.1.bn2\n",
      "layer3.0.bn1\n",
      "layer3.0.bn2\n",
      "layer3.1.bn1\n",
      "layer3.1.bn2\n",
      "layer4.0.bn1\n",
      "layer4.0.bn2\n",
      "layer4.1.bn1\n",
      "layer4.1.bn2\n"
     ]
    }
   ],
   "source": [
    "for name, m in n2.named_modules():\n",
    "    if isinstance(m, nn.BatchNorm2d) and 'bn' in name:\n",
    "        print(name)"
   ]
  },
  {
   "cell_type": "code",
   "execution_count": 16,
   "metadata": {},
   "outputs": [
    {
     "data": {
      "text/plain": [
       "[('',\n",
       "  ResNet(\n",
       "    (conv1): Conv2d(3, 64, kernel_size=(3, 3), stride=(1, 1), padding=(1, 1), bias=False)\n",
       "    (bn1): BatchNorm2d(64, eps=1e-05, momentum=0.1, affine=True, track_running_stats=True)\n",
       "    (layer1): Sequential(\n",
       "      (0): BasicBlock(\n",
       "        (conv1): Conv2d(64, 64, kernel_size=(3, 3), stride=(1, 1), padding=(1, 1), bias=False)\n",
       "        (bn1): BatchNorm2d(64, eps=1e-05, momentum=0.1, affine=True, track_running_stats=True)\n",
       "        (conv2): Conv2d(64, 64, kernel_size=(3, 3), stride=(1, 1), padding=(1, 1), bias=False)\n",
       "        (bn2): BatchNorm2d(64, eps=1e-05, momentum=0.1, affine=True, track_running_stats=True)\n",
       "        (shortcut): Sequential()\n",
       "      )\n",
       "      (1): BasicBlock(\n",
       "        (conv1): Conv2d(64, 64, kernel_size=(3, 3), stride=(1, 1), padding=(1, 1), bias=False)\n",
       "        (bn1): BatchNorm2d(64, eps=1e-05, momentum=0.1, affine=True, track_running_stats=True)\n",
       "        (conv2): Conv2d(64, 64, kernel_size=(3, 3), stride=(1, 1), padding=(1, 1), bias=False)\n",
       "        (bn2): BatchNorm2d(64, eps=1e-05, momentum=0.1, affine=True, track_running_stats=True)\n",
       "        (shortcut): Sequential()\n",
       "      )\n",
       "    )\n",
       "    (layer2): Sequential(\n",
       "      (0): BasicBlock(\n",
       "        (conv1): Conv2d(64, 128, kernel_size=(3, 3), stride=(2, 2), padding=(1, 1), bias=False)\n",
       "        (bn1): BatchNorm2d(128, eps=1e-05, momentum=0.1, affine=True, track_running_stats=True)\n",
       "        (conv2): Conv2d(128, 128, kernel_size=(3, 3), stride=(1, 1), padding=(1, 1), bias=False)\n",
       "        (bn2): BatchNorm2d(128, eps=1e-05, momentum=0.1, affine=True, track_running_stats=True)\n",
       "        (shortcut): Sequential(\n",
       "          (0): Conv2d(64, 128, kernel_size=(1, 1), stride=(2, 2), bias=False)\n",
       "          (1): BatchNorm2d(128, eps=1e-05, momentum=0.1, affine=True, track_running_stats=True)\n",
       "        )\n",
       "      )\n",
       "      (1): BasicBlock(\n",
       "        (conv1): Conv2d(128, 128, kernel_size=(3, 3), stride=(1, 1), padding=(1, 1), bias=False)\n",
       "        (bn1): BatchNorm2d(128, eps=1e-05, momentum=0.1, affine=True, track_running_stats=True)\n",
       "        (conv2): Conv2d(128, 128, kernel_size=(3, 3), stride=(1, 1), padding=(1, 1), bias=False)\n",
       "        (bn2): BatchNorm2d(128, eps=1e-05, momentum=0.1, affine=True, track_running_stats=True)\n",
       "        (shortcut): Sequential()\n",
       "      )\n",
       "    )\n",
       "    (layer3): Sequential(\n",
       "      (0): BasicBlock(\n",
       "        (conv1): Conv2d(128, 256, kernel_size=(3, 3), stride=(2, 2), padding=(1, 1), bias=False)\n",
       "        (bn1): BatchNorm2d(256, eps=1e-05, momentum=0.1, affine=True, track_running_stats=True)\n",
       "        (conv2): Conv2d(256, 256, kernel_size=(3, 3), stride=(1, 1), padding=(1, 1), bias=False)\n",
       "        (bn2): BatchNorm2d(256, eps=1e-05, momentum=0.1, affine=True, track_running_stats=True)\n",
       "        (shortcut): Sequential(\n",
       "          (0): Conv2d(128, 256, kernel_size=(1, 1), stride=(2, 2), bias=False)\n",
       "          (1): BatchNorm2d(256, eps=1e-05, momentum=0.1, affine=True, track_running_stats=True)\n",
       "        )\n",
       "      )\n",
       "      (1): BasicBlock(\n",
       "        (conv1): Conv2d(256, 256, kernel_size=(3, 3), stride=(1, 1), padding=(1, 1), bias=False)\n",
       "        (bn1): BatchNorm2d(256, eps=1e-05, momentum=0.1, affine=True, track_running_stats=True)\n",
       "        (conv2): Conv2d(256, 256, kernel_size=(3, 3), stride=(1, 1), padding=(1, 1), bias=False)\n",
       "        (bn2): BatchNorm2d(256, eps=1e-05, momentum=0.1, affine=True, track_running_stats=True)\n",
       "        (shortcut): Sequential()\n",
       "      )\n",
       "    )\n",
       "    (layer4): Sequential(\n",
       "      (0): BasicBlock(\n",
       "        (conv1): Conv2d(256, 512, kernel_size=(3, 3), stride=(2, 2), padding=(1, 1), bias=False)\n",
       "        (bn1): BatchNorm2d(512, eps=1e-05, momentum=0.1, affine=True, track_running_stats=True)\n",
       "        (conv2): Conv2d(512, 512, kernel_size=(3, 3), stride=(1, 1), padding=(1, 1), bias=False)\n",
       "        (bn2): BatchNorm2d(512, eps=1e-05, momentum=0.1, affine=True, track_running_stats=True)\n",
       "        (shortcut): Sequential(\n",
       "          (0): Conv2d(256, 512, kernel_size=(1, 1), stride=(2, 2), bias=False)\n",
       "          (1): BatchNorm2d(512, eps=1e-05, momentum=0.1, affine=True, track_running_stats=True)\n",
       "        )\n",
       "      )\n",
       "      (1): BasicBlock(\n",
       "        (conv1): Conv2d(512, 512, kernel_size=(3, 3), stride=(1, 1), padding=(1, 1), bias=False)\n",
       "        (bn1): BatchNorm2d(512, eps=1e-05, momentum=0.1, affine=True, track_running_stats=True)\n",
       "        (conv2): Conv2d(512, 512, kernel_size=(3, 3), stride=(1, 1), padding=(1, 1), bias=False)\n",
       "        (bn2): BatchNorm2d(512, eps=1e-05, momentum=0.1, affine=True, track_running_stats=True)\n",
       "        (shortcut): Sequential()\n",
       "      )\n",
       "    )\n",
       "    (reshape): Sequential(\n",
       "      (0): Linear(in_features=512, out_features=512, bias=False)\n",
       "      (1): BatchNorm1d(512, eps=1e-05, momentum=0.1, affine=True, track_running_stats=True)\n",
       "      (2): ReLU(inplace=True)\n",
       "      (3): Linear(in_features=512, out_features=512, bias=True)\n",
       "    )\n",
       "  )),\n",
       " ('conv1',\n",
       "  Conv2d(3, 64, kernel_size=(3, 3), stride=(1, 1), padding=(1, 1), bias=False)),\n",
       " ('bn1',\n",
       "  BatchNorm2d(64, eps=1e-05, momentum=0.1, affine=True, track_running_stats=True)),\n",
       " ('layer1',\n",
       "  Sequential(\n",
       "    (0): BasicBlock(\n",
       "      (conv1): Conv2d(64, 64, kernel_size=(3, 3), stride=(1, 1), padding=(1, 1), bias=False)\n",
       "      (bn1): BatchNorm2d(64, eps=1e-05, momentum=0.1, affine=True, track_running_stats=True)\n",
       "      (conv2): Conv2d(64, 64, kernel_size=(3, 3), stride=(1, 1), padding=(1, 1), bias=False)\n",
       "      (bn2): BatchNorm2d(64, eps=1e-05, momentum=0.1, affine=True, track_running_stats=True)\n",
       "      (shortcut): Sequential()\n",
       "    )\n",
       "    (1): BasicBlock(\n",
       "      (conv1): Conv2d(64, 64, kernel_size=(3, 3), stride=(1, 1), padding=(1, 1), bias=False)\n",
       "      (bn1): BatchNorm2d(64, eps=1e-05, momentum=0.1, affine=True, track_running_stats=True)\n",
       "      (conv2): Conv2d(64, 64, kernel_size=(3, 3), stride=(1, 1), padding=(1, 1), bias=False)\n",
       "      (bn2): BatchNorm2d(64, eps=1e-05, momentum=0.1, affine=True, track_running_stats=True)\n",
       "      (shortcut): Sequential()\n",
       "    )\n",
       "  )),\n",
       " ('layer1.0',\n",
       "  BasicBlock(\n",
       "    (conv1): Conv2d(64, 64, kernel_size=(3, 3), stride=(1, 1), padding=(1, 1), bias=False)\n",
       "    (bn1): BatchNorm2d(64, eps=1e-05, momentum=0.1, affine=True, track_running_stats=True)\n",
       "    (conv2): Conv2d(64, 64, kernel_size=(3, 3), stride=(1, 1), padding=(1, 1), bias=False)\n",
       "    (bn2): BatchNorm2d(64, eps=1e-05, momentum=0.1, affine=True, track_running_stats=True)\n",
       "    (shortcut): Sequential()\n",
       "  )),\n",
       " ('layer1.0.conv1',\n",
       "  Conv2d(64, 64, kernel_size=(3, 3), stride=(1, 1), padding=(1, 1), bias=False)),\n",
       " ('layer1.0.bn1',\n",
       "  BatchNorm2d(64, eps=1e-05, momentum=0.1, affine=True, track_running_stats=True)),\n",
       " ('layer1.0.conv2',\n",
       "  Conv2d(64, 64, kernel_size=(3, 3), stride=(1, 1), padding=(1, 1), bias=False)),\n",
       " ('layer1.0.bn2',\n",
       "  BatchNorm2d(64, eps=1e-05, momentum=0.1, affine=True, track_running_stats=True)),\n",
       " ('layer1.0.shortcut', Sequential()),\n",
       " ('layer1.1',\n",
       "  BasicBlock(\n",
       "    (conv1): Conv2d(64, 64, kernel_size=(3, 3), stride=(1, 1), padding=(1, 1), bias=False)\n",
       "    (bn1): BatchNorm2d(64, eps=1e-05, momentum=0.1, affine=True, track_running_stats=True)\n",
       "    (conv2): Conv2d(64, 64, kernel_size=(3, 3), stride=(1, 1), padding=(1, 1), bias=False)\n",
       "    (bn2): BatchNorm2d(64, eps=1e-05, momentum=0.1, affine=True, track_running_stats=True)\n",
       "    (shortcut): Sequential()\n",
       "  )),\n",
       " ('layer1.1.conv1',\n",
       "  Conv2d(64, 64, kernel_size=(3, 3), stride=(1, 1), padding=(1, 1), bias=False)),\n",
       " ('layer1.1.bn1',\n",
       "  BatchNorm2d(64, eps=1e-05, momentum=0.1, affine=True, track_running_stats=True)),\n",
       " ('layer1.1.conv2',\n",
       "  Conv2d(64, 64, kernel_size=(3, 3), stride=(1, 1), padding=(1, 1), bias=False)),\n",
       " ('layer1.1.bn2',\n",
       "  BatchNorm2d(64, eps=1e-05, momentum=0.1, affine=True, track_running_stats=True)),\n",
       " ('layer1.1.shortcut', Sequential()),\n",
       " ('layer2',\n",
       "  Sequential(\n",
       "    (0): BasicBlock(\n",
       "      (conv1): Conv2d(64, 128, kernel_size=(3, 3), stride=(2, 2), padding=(1, 1), bias=False)\n",
       "      (bn1): BatchNorm2d(128, eps=1e-05, momentum=0.1, affine=True, track_running_stats=True)\n",
       "      (conv2): Conv2d(128, 128, kernel_size=(3, 3), stride=(1, 1), padding=(1, 1), bias=False)\n",
       "      (bn2): BatchNorm2d(128, eps=1e-05, momentum=0.1, affine=True, track_running_stats=True)\n",
       "      (shortcut): Sequential(\n",
       "        (0): Conv2d(64, 128, kernel_size=(1, 1), stride=(2, 2), bias=False)\n",
       "        (1): BatchNorm2d(128, eps=1e-05, momentum=0.1, affine=True, track_running_stats=True)\n",
       "      )\n",
       "    )\n",
       "    (1): BasicBlock(\n",
       "      (conv1): Conv2d(128, 128, kernel_size=(3, 3), stride=(1, 1), padding=(1, 1), bias=False)\n",
       "      (bn1): BatchNorm2d(128, eps=1e-05, momentum=0.1, affine=True, track_running_stats=True)\n",
       "      (conv2): Conv2d(128, 128, kernel_size=(3, 3), stride=(1, 1), padding=(1, 1), bias=False)\n",
       "      (bn2): BatchNorm2d(128, eps=1e-05, momentum=0.1, affine=True, track_running_stats=True)\n",
       "      (shortcut): Sequential()\n",
       "    )\n",
       "  )),\n",
       " ('layer2.0',\n",
       "  BasicBlock(\n",
       "    (conv1): Conv2d(64, 128, kernel_size=(3, 3), stride=(2, 2), padding=(1, 1), bias=False)\n",
       "    (bn1): BatchNorm2d(128, eps=1e-05, momentum=0.1, affine=True, track_running_stats=True)\n",
       "    (conv2): Conv2d(128, 128, kernel_size=(3, 3), stride=(1, 1), padding=(1, 1), bias=False)\n",
       "    (bn2): BatchNorm2d(128, eps=1e-05, momentum=0.1, affine=True, track_running_stats=True)\n",
       "    (shortcut): Sequential(\n",
       "      (0): Conv2d(64, 128, kernel_size=(1, 1), stride=(2, 2), bias=False)\n",
       "      (1): BatchNorm2d(128, eps=1e-05, momentum=0.1, affine=True, track_running_stats=True)\n",
       "    )\n",
       "  )),\n",
       " ('layer2.0.conv1',\n",
       "  Conv2d(64, 128, kernel_size=(3, 3), stride=(2, 2), padding=(1, 1), bias=False)),\n",
       " ('layer2.0.bn1',\n",
       "  BatchNorm2d(128, eps=1e-05, momentum=0.1, affine=True, track_running_stats=True)),\n",
       " ('layer2.0.conv2',\n",
       "  Conv2d(128, 128, kernel_size=(3, 3), stride=(1, 1), padding=(1, 1), bias=False)),\n",
       " ('layer2.0.bn2',\n",
       "  BatchNorm2d(128, eps=1e-05, momentum=0.1, affine=True, track_running_stats=True)),\n",
       " ('layer2.0.shortcut',\n",
       "  Sequential(\n",
       "    (0): Conv2d(64, 128, kernel_size=(1, 1), stride=(2, 2), bias=False)\n",
       "    (1): BatchNorm2d(128, eps=1e-05, momentum=0.1, affine=True, track_running_stats=True)\n",
       "  )),\n",
       " ('layer2.0.shortcut.0',\n",
       "  Conv2d(64, 128, kernel_size=(1, 1), stride=(2, 2), bias=False)),\n",
       " ('layer2.0.shortcut.1',\n",
       "  BatchNorm2d(128, eps=1e-05, momentum=0.1, affine=True, track_running_stats=True)),\n",
       " ('layer2.1',\n",
       "  BasicBlock(\n",
       "    (conv1): Conv2d(128, 128, kernel_size=(3, 3), stride=(1, 1), padding=(1, 1), bias=False)\n",
       "    (bn1): BatchNorm2d(128, eps=1e-05, momentum=0.1, affine=True, track_running_stats=True)\n",
       "    (conv2): Conv2d(128, 128, kernel_size=(3, 3), stride=(1, 1), padding=(1, 1), bias=False)\n",
       "    (bn2): BatchNorm2d(128, eps=1e-05, momentum=0.1, affine=True, track_running_stats=True)\n",
       "    (shortcut): Sequential()\n",
       "  )),\n",
       " ('layer2.1.conv1',\n",
       "  Conv2d(128, 128, kernel_size=(3, 3), stride=(1, 1), padding=(1, 1), bias=False)),\n",
       " ('layer2.1.bn1',\n",
       "  BatchNorm2d(128, eps=1e-05, momentum=0.1, affine=True, track_running_stats=True)),\n",
       " ('layer2.1.conv2',\n",
       "  Conv2d(128, 128, kernel_size=(3, 3), stride=(1, 1), padding=(1, 1), bias=False)),\n",
       " ('layer2.1.bn2',\n",
       "  BatchNorm2d(128, eps=1e-05, momentum=0.1, affine=True, track_running_stats=True)),\n",
       " ('layer2.1.shortcut', Sequential()),\n",
       " ('layer3',\n",
       "  Sequential(\n",
       "    (0): BasicBlock(\n",
       "      (conv1): Conv2d(128, 256, kernel_size=(3, 3), stride=(2, 2), padding=(1, 1), bias=False)\n",
       "      (bn1): BatchNorm2d(256, eps=1e-05, momentum=0.1, affine=True, track_running_stats=True)\n",
       "      (conv2): Conv2d(256, 256, kernel_size=(3, 3), stride=(1, 1), padding=(1, 1), bias=False)\n",
       "      (bn2): BatchNorm2d(256, eps=1e-05, momentum=0.1, affine=True, track_running_stats=True)\n",
       "      (shortcut): Sequential(\n",
       "        (0): Conv2d(128, 256, kernel_size=(1, 1), stride=(2, 2), bias=False)\n",
       "        (1): BatchNorm2d(256, eps=1e-05, momentum=0.1, affine=True, track_running_stats=True)\n",
       "      )\n",
       "    )\n",
       "    (1): BasicBlock(\n",
       "      (conv1): Conv2d(256, 256, kernel_size=(3, 3), stride=(1, 1), padding=(1, 1), bias=False)\n",
       "      (bn1): BatchNorm2d(256, eps=1e-05, momentum=0.1, affine=True, track_running_stats=True)\n",
       "      (conv2): Conv2d(256, 256, kernel_size=(3, 3), stride=(1, 1), padding=(1, 1), bias=False)\n",
       "      (bn2): BatchNorm2d(256, eps=1e-05, momentum=0.1, affine=True, track_running_stats=True)\n",
       "      (shortcut): Sequential()\n",
       "    )\n",
       "  )),\n",
       " ('layer3.0',\n",
       "  BasicBlock(\n",
       "    (conv1): Conv2d(128, 256, kernel_size=(3, 3), stride=(2, 2), padding=(1, 1), bias=False)\n",
       "    (bn1): BatchNorm2d(256, eps=1e-05, momentum=0.1, affine=True, track_running_stats=True)\n",
       "    (conv2): Conv2d(256, 256, kernel_size=(3, 3), stride=(1, 1), padding=(1, 1), bias=False)\n",
       "    (bn2): BatchNorm2d(256, eps=1e-05, momentum=0.1, affine=True, track_running_stats=True)\n",
       "    (shortcut): Sequential(\n",
       "      (0): Conv2d(128, 256, kernel_size=(1, 1), stride=(2, 2), bias=False)\n",
       "      (1): BatchNorm2d(256, eps=1e-05, momentum=0.1, affine=True, track_running_stats=True)\n",
       "    )\n",
       "  )),\n",
       " ('layer3.0.conv1',\n",
       "  Conv2d(128, 256, kernel_size=(3, 3), stride=(2, 2), padding=(1, 1), bias=False)),\n",
       " ('layer3.0.bn1',\n",
       "  BatchNorm2d(256, eps=1e-05, momentum=0.1, affine=True, track_running_stats=True)),\n",
       " ('layer3.0.conv2',\n",
       "  Conv2d(256, 256, kernel_size=(3, 3), stride=(1, 1), padding=(1, 1), bias=False)),\n",
       " ('layer3.0.bn2',\n",
       "  BatchNorm2d(256, eps=1e-05, momentum=0.1, affine=True, track_running_stats=True)),\n",
       " ('layer3.0.shortcut',\n",
       "  Sequential(\n",
       "    (0): Conv2d(128, 256, kernel_size=(1, 1), stride=(2, 2), bias=False)\n",
       "    (1): BatchNorm2d(256, eps=1e-05, momentum=0.1, affine=True, track_running_stats=True)\n",
       "  )),\n",
       " ('layer3.0.shortcut.0',\n",
       "  Conv2d(128, 256, kernel_size=(1, 1), stride=(2, 2), bias=False)),\n",
       " ('layer3.0.shortcut.1',\n",
       "  BatchNorm2d(256, eps=1e-05, momentum=0.1, affine=True, track_running_stats=True)),\n",
       " ('layer3.1',\n",
       "  BasicBlock(\n",
       "    (conv1): Conv2d(256, 256, kernel_size=(3, 3), stride=(1, 1), padding=(1, 1), bias=False)\n",
       "    (bn1): BatchNorm2d(256, eps=1e-05, momentum=0.1, affine=True, track_running_stats=True)\n",
       "    (conv2): Conv2d(256, 256, kernel_size=(3, 3), stride=(1, 1), padding=(1, 1), bias=False)\n",
       "    (bn2): BatchNorm2d(256, eps=1e-05, momentum=0.1, affine=True, track_running_stats=True)\n",
       "    (shortcut): Sequential()\n",
       "  )),\n",
       " ('layer3.1.conv1',\n",
       "  Conv2d(256, 256, kernel_size=(3, 3), stride=(1, 1), padding=(1, 1), bias=False)),\n",
       " ('layer3.1.bn1',\n",
       "  BatchNorm2d(256, eps=1e-05, momentum=0.1, affine=True, track_running_stats=True)),\n",
       " ('layer3.1.conv2',\n",
       "  Conv2d(256, 256, kernel_size=(3, 3), stride=(1, 1), padding=(1, 1), bias=False)),\n",
       " ('layer3.1.bn2',\n",
       "  BatchNorm2d(256, eps=1e-05, momentum=0.1, affine=True, track_running_stats=True)),\n",
       " ('layer3.1.shortcut', Sequential()),\n",
       " ('layer4',\n",
       "  Sequential(\n",
       "    (0): BasicBlock(\n",
       "      (conv1): Conv2d(256, 512, kernel_size=(3, 3), stride=(2, 2), padding=(1, 1), bias=False)\n",
       "      (bn1): BatchNorm2d(512, eps=1e-05, momentum=0.1, affine=True, track_running_stats=True)\n",
       "      (conv2): Conv2d(512, 512, kernel_size=(3, 3), stride=(1, 1), padding=(1, 1), bias=False)\n",
       "      (bn2): BatchNorm2d(512, eps=1e-05, momentum=0.1, affine=True, track_running_stats=True)\n",
       "      (shortcut): Sequential(\n",
       "        (0): Conv2d(256, 512, kernel_size=(1, 1), stride=(2, 2), bias=False)\n",
       "        (1): BatchNorm2d(512, eps=1e-05, momentum=0.1, affine=True, track_running_stats=True)\n",
       "      )\n",
       "    )\n",
       "    (1): BasicBlock(\n",
       "      (conv1): Conv2d(512, 512, kernel_size=(3, 3), stride=(1, 1), padding=(1, 1), bias=False)\n",
       "      (bn1): BatchNorm2d(512, eps=1e-05, momentum=0.1, affine=True, track_running_stats=True)\n",
       "      (conv2): Conv2d(512, 512, kernel_size=(3, 3), stride=(1, 1), padding=(1, 1), bias=False)\n",
       "      (bn2): BatchNorm2d(512, eps=1e-05, momentum=0.1, affine=True, track_running_stats=True)\n",
       "      (shortcut): Sequential()\n",
       "    )\n",
       "  )),\n",
       " ('layer4.0',\n",
       "  BasicBlock(\n",
       "    (conv1): Conv2d(256, 512, kernel_size=(3, 3), stride=(2, 2), padding=(1, 1), bias=False)\n",
       "    (bn1): BatchNorm2d(512, eps=1e-05, momentum=0.1, affine=True, track_running_stats=True)\n",
       "    (conv2): Conv2d(512, 512, kernel_size=(3, 3), stride=(1, 1), padding=(1, 1), bias=False)\n",
       "    (bn2): BatchNorm2d(512, eps=1e-05, momentum=0.1, affine=True, track_running_stats=True)\n",
       "    (shortcut): Sequential(\n",
       "      (0): Conv2d(256, 512, kernel_size=(1, 1), stride=(2, 2), bias=False)\n",
       "      (1): BatchNorm2d(512, eps=1e-05, momentum=0.1, affine=True, track_running_stats=True)\n",
       "    )\n",
       "  )),\n",
       " ('layer4.0.conv1',\n",
       "  Conv2d(256, 512, kernel_size=(3, 3), stride=(2, 2), padding=(1, 1), bias=False)),\n",
       " ('layer4.0.bn1',\n",
       "  BatchNorm2d(512, eps=1e-05, momentum=0.1, affine=True, track_running_stats=True)),\n",
       " ('layer4.0.conv2',\n",
       "  Conv2d(512, 512, kernel_size=(3, 3), stride=(1, 1), padding=(1, 1), bias=False)),\n",
       " ('layer4.0.bn2',\n",
       "  BatchNorm2d(512, eps=1e-05, momentum=0.1, affine=True, track_running_stats=True)),\n",
       " ('layer4.0.shortcut',\n",
       "  Sequential(\n",
       "    (0): Conv2d(256, 512, kernel_size=(1, 1), stride=(2, 2), bias=False)\n",
       "    (1): BatchNorm2d(512, eps=1e-05, momentum=0.1, affine=True, track_running_stats=True)\n",
       "  )),\n",
       " ('layer4.0.shortcut.0',\n",
       "  Conv2d(256, 512, kernel_size=(1, 1), stride=(2, 2), bias=False)),\n",
       " ('layer4.0.shortcut.1',\n",
       "  BatchNorm2d(512, eps=1e-05, momentum=0.1, affine=True, track_running_stats=True)),\n",
       " ('layer4.1',\n",
       "  BasicBlock(\n",
       "    (conv1): Conv2d(512, 512, kernel_size=(3, 3), stride=(1, 1), padding=(1, 1), bias=False)\n",
       "    (bn1): BatchNorm2d(512, eps=1e-05, momentum=0.1, affine=True, track_running_stats=True)\n",
       "    (conv2): Conv2d(512, 512, kernel_size=(3, 3), stride=(1, 1), padding=(1, 1), bias=False)\n",
       "    (bn2): BatchNorm2d(512, eps=1e-05, momentum=0.1, affine=True, track_running_stats=True)\n",
       "    (shortcut): Sequential()\n",
       "  )),\n",
       " ('layer4.1.conv1',\n",
       "  Conv2d(512, 512, kernel_size=(3, 3), stride=(1, 1), padding=(1, 1), bias=False)),\n",
       " ('layer4.1.bn1',\n",
       "  BatchNorm2d(512, eps=1e-05, momentum=0.1, affine=True, track_running_stats=True)),\n",
       " ('layer4.1.conv2',\n",
       "  Conv2d(512, 512, kernel_size=(3, 3), stride=(1, 1), padding=(1, 1), bias=False)),\n",
       " ('layer4.1.bn2',\n",
       "  BatchNorm2d(512, eps=1e-05, momentum=0.1, affine=True, track_running_stats=True)),\n",
       " ('layer4.1.shortcut', Sequential()),\n",
       " ('reshape',\n",
       "  Sequential(\n",
       "    (0): Linear(in_features=512, out_features=512, bias=False)\n",
       "    (1): BatchNorm1d(512, eps=1e-05, momentum=0.1, affine=True, track_running_stats=True)\n",
       "    (2): ReLU(inplace=True)\n",
       "    (3): Linear(in_features=512, out_features=512, bias=True)\n",
       "  )),\n",
       " ('reshape.0', Linear(in_features=512, out_features=512, bias=False)),\n",
       " ('reshape.1',\n",
       "  BatchNorm1d(512, eps=1e-05, momentum=0.1, affine=True, track_running_stats=True)),\n",
       " ('reshape.2', ReLU(inplace=True)),\n",
       " ('reshape.3', Linear(in_features=512, out_features=512, bias=True))]"
      ]
     },
     "execution_count": 16,
     "metadata": {},
     "output_type": "execute_result"
    }
   ],
   "source": [
    "list(n2.named_modules())"
   ]
  },
  {
   "cell_type": "code",
   "execution_count": 17,
   "metadata": {},
   "outputs": [
    {
     "name": "stdout",
     "output_type": "stream",
     "text": [
      "conv1.bns.0\n",
      "layer1.0.conv1.bns.0\n",
      "layer1.0.conv2.1.bns.0\n",
      "layer1.1.conv1.bns.0\n",
      "layer1.1.conv2.1.bns.0\n",
      "layer2.0.conv1.bns.0\n",
      "layer2.0.conv2.1.bns.0\n",
      "layer2.1.conv1.bns.0\n",
      "layer2.1.conv2.1.bns.0\n",
      "layer3.0.conv1.bns.0\n",
      "layer3.0.conv2.1.bns.0\n",
      "layer3.1.conv1.bns.0\n",
      "layer3.1.conv2.1.bns.0\n",
      "layer4.0.conv1.bns.0\n",
      "layer4.0.conv2.1.bns.0\n",
      "layer4.1.conv1.bns.0\n",
      "layer4.1.conv2.1.bns.0\n"
     ]
    }
   ],
   "source": [
    "import re\n",
    "condition_bn = 'noproblem'\n",
    "for id_task in range(len([10])):\n",
    "    element = 0\n",
    "    for name, m in n1.named_modules():\n",
    "        if isinstance(m, nn.BatchNorm2d) and 'bns.'+str(id_task) in name and not re.search(condition_bn,name):\n",
    "            print(name)\n",
    "            element += 1"
   ]
  },
  {
   "cell_type": "code",
   "execution_count": 21,
   "metadata": {},
   "outputs": [
    {
     "data": {
      "text/plain": [
       "'conv1'"
      ]
     },
     "execution_count": 21,
     "metadata": {},
     "output_type": "execute_result"
    }
   ],
   "source": [
    "list(n2.named_modules())[1][0]"
   ]
  }
 ],
 "metadata": {
  "kernelspec": {
   "display_name": "Python 3",
   "language": "python",
   "name": "python3"
  },
  "language_info": {
   "codemirror_mode": {
    "name": "ipython",
    "version": 3
   },
   "file_extension": ".py",
   "mimetype": "text/x-python",
   "name": "python",
   "nbconvert_exporter": "python",
   "pygments_lexer": "ipython3",
   "version": "3.8.3"
  }
 },
 "nbformat": 4,
 "nbformat_minor": 4
}
